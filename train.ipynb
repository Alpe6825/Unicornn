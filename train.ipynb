{
 "nbformat": 4,
 "nbformat_minor": 0,
 "metadata": {
  "kernelspec": {
   "display_name": "Python 3",
   "language": "python",
   "name": "python3"
  },
  "language_info": {
   "codemirror_mode": {
    "name": "ipython",
    "version": 3
   },
   "file_extension": ".py",
   "mimetype": "text/x-python",
   "name": "python",
   "nbconvert_exporter": "python",
   "pygments_lexer": "ipython3",
   "version": "3.7.7"
  },
  "colab": {
   "name": "train.ipynb",
   "provenance": []
  }
 },
 "cells": [
  {
   "cell_type": "markdown",
   "metadata": {
    "id": "5AkADJjFJ7oe",
    "colab_type": "text"
   },
   "source": [
    "# Unicornn\n"
   ]
  },
  {
   "cell_type": "code",
   "metadata": {
    "pycharm": {
     "name": "#%%\n"
    },
    "id": "ZYhy9CbjJ7og",
    "colab_type": "code",
    "colab": {}
   },
   "source": [
    "import librosa\n",
    "import os\n",
    "import random\n",
    "import numpy as np\n",
    "import matplotlib.pyplot as plt\n",
    "import torch\n",
    "import torch.nn as nn\n",
    "import torchvision\n",
    "import time\n",
    "from sklearn.metrics import confusion_matrix\n",
    "\n",
    "import collections\n",
    "from torchsummary import summary\n",
    "\n",
    "from tqdm import tqdm\n",
    "\n",
    "import VGG"
   ],
   "execution_count": 37,
   "outputs": []
  },
  {
   "cell_type": "markdown",
   "metadata": {
    "id": "e_BBErIbJ7on",
    "colab_type": "text"
   },
   "source": [
    "## Params\n",
    "Die hier aufgelisteten Parameter ermöglichen die wichtigsten Einstellungen."
   ]
  },
  {
   "cell_type": "code",
   "metadata": {
    "pycharm": {
     "name": "#%%\n"
    },
    "id": "AlvySxsvJ7oo",
    "colab_type": "code",
    "colab": {},
    "outputId": "86b89fe4-548d-423f-c2a4-ac741fca0082"
   },
   "source": [
    "# Generel Params\n",
    "durationOfAudioSample = 1 # Length of AudioSamples for Training\n",
    "showDataBalance = False # Shows Data Balance in the complete and the splitted Datasets. (time intensive)\n",
    "\n",
    "modelType = \"ResNet\"    # \"VGG\" or \"ResNet\"\n",
    "optimizerType = \"Adam\"  # \"Adam\" or \"SGD\"\n",
    "batchSize=128           # Batch size for Training\n",
    "epochs=20               # Number of Epochs for Training\n",
    "learningRate=0.0001     # Learning Rate\n",
    "\n",
    "# for generating the confusion-matrix\n",
    "labels = []\n",
    "predictions = []\n",
    "\n",
    "# Checks if gpu is available\n",
    "device = \"cuda:0\" if torch.cuda.is_available() else \"cpu\"\n",
    "print(\"Device:\", device)"
   ],
   "execution_count": 38,
   "outputs": [
    {
     "name": "stdout",
     "output_type": "stream",
     "text": [
      "Device: cuda:0\n"
     ]
    }
   ]
  },
  {
   "cell_type": "markdown",
   "metadata": {
    "id": "yu3uHjCqJ7oy",
    "colab_type": "text"
   },
   "source": [
    "## Utils\n",
    "\n",
    "Im Folgenden werden zunächst einige Hilfsfunktionen erstellt.\n",
    "\n",
    "### Audio Manipulation"
   ]
  },
  {
   "cell_type": "code",
   "metadata": {
    "pycharm": {
     "name": "#%%\n"
    },
    "id": "9YLtyVsfJ7o0",
    "colab_type": "code",
    "colab": {}
   },
   "source": [
    "# randomly change amplitude of audio in given range\n",
    "def manipulateAmplitude(samples, amplitude_range):\n",
    "    samples = samples * random.uniform(*amplitude_range)\n",
    "    return samples\n",
    "\n",
    "# randomly change speed (pitch) of audio within maximum scale\n",
    "def manipulateSpeed(samples, max_scale):\n",
    "    scale = random.uniform(-max_scale, max_scale)\n",
    "    speed_factor = 1.0 / (1 + scale)\n",
    "    samples = np.interp(np.arange(0, len(samples), speed_factor), np.arange(0,len(samples)), samples).astype(np.float32)\n",
    "    return samples\n",
    "\n",
    "# randomly add background noise\n",
    "def backgroundNoise(samples, standard_deviation):\n",
    "    noise = np.random.normal(0, standard_deviation, samples.shape)\n",
    "    #print(noise)\n",
    "    samples += noise\n",
    "    return samples\n",
    "\n",
    "#randomly shift audio in time\n",
    "def manipulateShift(samples, sample_rate, max_shift_seconds):\n",
    "    max_shift = sample_rate * max_shift_seconds\n",
    "    shift = random.randint(-max_shift, max_shift)\n",
    "    minimum = -min(0, shift)\n",
    "    maximum = max(0, shift)\n",
    "    samples_temp = np.pad(samples, (minimum, maximum), \"constant\")\n",
    "    samples = samples[:len(samples) - minimum] if minimum else samples[maximum:]\n",
    "    return samples\n",
    "\n",
    "# randomly change length of audio by stretching\n",
    "def manipulateLength(samples, max_scale):\n",
    "    scale = random.uniform(-max_scale, max_scale)\n",
    "    samples = librosa.effects.time_stretch(samples, 1+scale)\n",
    "    return samples"
   ],
   "execution_count": 39,
   "outputs": []
  },
  {
   "cell_type": "markdown",
   "metadata": {
    "id": "b_JqWsN_J7o9",
    "colab_type": "text"
   },
   "source": [
    "### Wave2Image"
   ]
  },
  {
   "cell_type": "code",
   "metadata": {
    "pycharm": {
     "name": "#%%\n"
    },
    "id": "sbSv6wIhJ7o-",
    "colab_type": "code",
    "colab": {}
   },
   "source": [
    "def wave2image(file):\n",
    "\n",
    "    samples, sample_rate = librosa.core.load(file,sr=16000)\n",
    "\n",
    "    # Audio Manipulation\n",
    "    #samples = manipulateAmplitude(samples, (0.7, 1.1))\n",
    "    #samples = manipulateSpeed(samples, 0.2)\n",
    "    #samples = backgroundNoise(samples, 0.01)\n",
    "    #samples = manipulateShift(samples, sample_rate, 0.2)\n",
    "    #samples = manipulateLength(samples, 0.2)\n",
    "\n",
    "    # correct length of audiosample to fix length\n",
    "    fixed_sample_length = int(durationOfAudioSample * sample_rate)\n",
    "    if fixed_sample_length < len(samples):      #truncate\n",
    "        samples = samples[:fixed_sample_length]\n",
    "    elif fixed_sample_length > len(samples):    # add silence\n",
    "        samples = np.pad(samples, (0, fixed_sample_length - len(samples)), \"constant\")\n",
    "\n",
    "    # Create MelSpectrum\n",
    "    s = librosa.feature.melspectrogram(samples, sr=sample_rate, n_mels=32)\n",
    "    mel = librosa.power_to_db(s, ref=np.max)\n",
    "    return mel"
   ],
   "execution_count": 40,
   "outputs": []
  },
  {
   "cell_type": "markdown",
   "metadata": {
    "id": "HELgQBdCJ7pK",
    "colab_type": "text"
   },
   "source": [
    "### Show Image\n",
    "\n",
    "Die Funktion `show(image,title = None)` ermöglicht das Plotten von Bildern.\n",
    "Das Argument `title` ist optional und kann z.B. für das entsprechende Label verwendet werden."
   ]
  },
  {
   "cell_type": "code",
   "metadata": {
    "pycharm": {
     "name": "#%%\n"
    },
    "id": "l9hXwgCGJ7pL",
    "colab_type": "code",
    "colab": {}
   },
   "source": [
    "def show(_image,_title = None):\n",
    "    plt.figure(figsize=(15, 5))\n",
    "    plt.imshow(_image[0])\n",
    "    if _title is not None:\n",
    "        plt.title(_title)\n",
    "    plt.colorbar()\n",
    "    plt.show()"
   ],
   "execution_count": 41,
   "outputs": []
  },
  {
   "cell_type": "markdown",
   "metadata": {
    "id": "339xIK8VJ7pR",
    "colab_type": "text"
   },
   "source": [
    "### Count Labels in Dataset\n",
    "\n",
    "Die Funktion `dataBalance` zählt wie oft ein Label im Datensatz vorkommt und gibt die Werte\n",
    "als Liste zurück. Der Index in der Liste entspricht dabei dem Label (erster Eintrag\n",
    "entspricht der absoluten Häufigkeit von Label 0 im Datensatz, der darauf folgende Wert Label 1 usw.)."
   ]
  },
  {
   "cell_type": "code",
   "metadata": {
    "pycharm": {
     "name": "#%%\n"
    },
    "id": "mpcBdTfEJ7pS",
    "colab_type": "code",
    "colab": {}
   },
   "source": [
    "def dataBalance(_dataset):\n",
    "\n",
    "    _y = [y for _,y,_ in _dataset]\n",
    "    _counter = collections.Counter(_y)\n",
    "\n",
    "    _sizes = []\n",
    "\n",
    "    for i in range(0, len(_counter)):\n",
    "        _sizes.append(_counter[i])\n",
    "\n",
    "    return _sizes"
   ],
   "execution_count": 42,
   "outputs": []
  },
  {
   "cell_type": "markdown",
   "metadata": {
    "id": "3WomjYjrJ7pZ",
    "colab_type": "text"
   },
   "source": [
    "## Dataset\n",
    "\n",
    "Die Klasse `CommandDataset` representiert den kompletten Datensatz.\n",
    "\n",
    "In der `__init__(self)` Funktion werden alle Pfade zu Daten\n",
    "vereint und die entsprechenden Labels erstellt.\n",
    "\n",
    "Die Funktion `__len__(self)` gibt die Anzahl der Einträge im Datensatz an.\n",
    "\n",
    "Der Zugriff auf Datensatzeinträge erfolgt ähnlich wie bei Listen\n",
    "oder Arrays (`dataset[idx]` gibt den `idx`-ten Eintrag zurück).\n",
    "Dabei wird die Klasse `__getItem__(self,idx)` aufgerufen, in welcher der\n",
    "`idx`-te Eintrag erstellt wird. Die Rückgabe besteht aus dem Bild des MelSpektrograms, dem Label,\n",
    "sowie dem Pfad zur Wave-Datei."
   ]
  },
  {
   "cell_type": "code",
   "metadata": {
    "pycharm": {
     "name": "#%%\n"
    },
    "id": "sSFABpgrJ7pa",
    "colab_type": "code",
    "colab": {},
    "outputId": "bef81180-e322-4acc-f9bf-c77f055c09f2"
   },
   "source": [
    "class CommandDataset(torch.utils.data.Dataset):\n",
    "\n",
    "    def __init__(self):\n",
    "        paths = [\"Dataset/data-speech_commands_v0.02/zero/\",\n",
    "                 \"Dataset/data-speech_commands_v0.02/one/\",\n",
    "                 \"Dataset/data-speech_commands_v0.02/two/\",\n",
    "                 \"Dataset/data-speech_commands_v0.02/three/\",\n",
    "                 \"Dataset/data-speech_commands_v0.02/four/\",\n",
    "                 \"Dataset/data-speech_commands_v0.02/five/\",\n",
    "                 \"Dataset/data-speech_commands_v0.02/six/\",\n",
    "                 \"Dataset/data-speech_commands_v0.02/seven/\",\n",
    "                 \"Dataset/data-speech_commands_v0.02/eight/\",\n",
    "                 \"Dataset/data-speech_commands_v0.02/nine/\",\n",
    "\n",
    "                 \"Dataset/data-speech_commands_v0.02/forward/\",\n",
    "                 \"Dataset/data-speech_commands_v0.02/backward/\",\n",
    "                 \"Dataset/data-speech_commands_v0.02/left/\",\n",
    "                 \"Dataset/data-speech_commands_v0.02/right/\",\n",
    "                 \"Dataset/data-speech_commands_v0.02/up/\",\n",
    "                 \"Dataset/data-speech_commands_v0.02/down/\"\n",
    "\n",
    "                 ]\n",
    "        \"\"\"\n",
    "                 \"Dataset/customUnicornn/create/\",\n",
    "                 \"Dataset/customUnicornn/delete/\",\n",
    "                 \"Dataset/customUnicornn/select/\",\n",
    "                 \"Dataset/customUnicornn/move/\",\n",
    "                 \"Dataset/customUnicornn/color/\",\n",
    "\n",
    "                 \"Dataset/customUnicornn/red/\",\n",
    "                 \"Dataset/customUnicornn/green/\",\n",
    "                 \"Dataset/customUnicornn/blue/\",\n",
    "                 \"Dataset/customUnicornn/white/\",\n",
    "\n",
    "                 \"Dataset/customUnicornn/cube/\",\n",
    "                 \"Dataset/customUnicornn/sphere/\",\n",
    "                 \"Dataset/customUnicornn/plane/\",\n",
    "                 \"\"\"\n",
    "\n",
    "        self.classes = len(paths)\n",
    "\n",
    "        self.datasetItems = []\n",
    "        self.exampleIDs = []\n",
    "        _id = -1\n",
    "        for _label in range(0,len(paths)):\n",
    "            for filename in os.listdir(paths[_label]):\n",
    "                if filename.endswith(\".wav\"):\n",
    "                    self.datasetItems.append((os.path.join(paths[_label],filename),_label))\n",
    "                    _id += 1\n",
    "            self.exampleIDs.append(_id)\n",
    "\n",
    "    def __len__(self):\n",
    "        return len(self.datasetItems)\n",
    "\n",
    "    def __getitem__(self, idx):\n",
    "        _image = wave2image(self.datasetItems[idx][0])\n",
    "\n",
    "        # scale to Range[0;1]\n",
    "        _min = np.min(_image)\n",
    "        _image -= _min\n",
    "        _max = np.max(_image)\n",
    "        _image /=_max\n",
    "\n",
    "        return torch.Tensor(_image).unsqueeze(0), self.datasetItems[idx][1], self.datasetItems[idx][0]\n",
    "\n",
    "commandDataset = CommandDataset()\n",
    "print(\"Einträge im Datensatz:\", len(commandDataset))\n",
    "\n",
    "random_idx = random.randint(0, len(commandDataset)-1)\n",
    "image, label, path = commandDataset[random_idx]\n",
    "print(\"Random Element:\", path)\n",
    "show(image,\"Label: \" + str(label))"
   ],
   "execution_count": 66,
   "outputs": [
    {
     "name": "stdout",
     "output_type": "stream",
     "text": [
      "Einträge im Datensatz: 57348\n",
      "Random Element: Dataset/data-speech_commands_v0.02/zero/235b444f_nohash_4.wav\n"
     ]
    },
    {
     "data": {
      "text/plain": "<Figure size 1080x360 with 2 Axes>",
      "image/png": "[encoded data removed]"
     },
     "metadata": {
      "needs_background": "light"
     },
     "output_type": "display_data"
    }
   ]
  },
  {
   "cell_type": "code",
   "metadata": {
    "pycharm": {
     "name": "#%%\n"
    },
    "id": "LV-NBd0MJ7pk",
    "colab_type": "code",
    "colab": {},
    "outputId": "8cc812fb-4bf8-428a-b089-06cb97d22072"
   },
   "source": [
    "print(\"Class Examples:\")\n",
    "grid = [commandDataset[i][0] for i in commandDataset.exampleIDs]\n",
    "\n",
    "grid = torchvision.utils.make_grid(grid, nrow=10, padding=2)\n",
    "show(grid.numpy(), \"(in reading direction)\")"
   ],
   "execution_count": 65,
   "outputs": [
    {
     "name": "stdout",
     "output_type": "stream",
     "text": [
      "Class Examples:\n"
     ]
    },
    {
     "data": {
      "text/plain": "<Figure size 1080x360 with 2 Axes>",
      "image/png": "[encoded data removed]"
     },
     "metadata": {
      "needs_background": "light"
     },
     "output_type": "display_data"
    }
   ]
  },
  {
   "cell_type": "markdown",
   "metadata": {
    "id": "0YV_J-9vJ7pp",
    "colab_type": "text"
   },
   "source": [
    "### Splitting\n",
    "\n",
    "Um den Trainingsprozess später evaluieren zu können wird der Datasatz in einen\n",
    "Trainings- und einen Evaluierungsdatensatz aufgeteilt. Das Verhältnis zwischen den\n",
    "beiden Datensätzen ist 80:20."
   ]
  },
  {
   "cell_type": "code",
   "metadata": {
    "pycharm": {
     "name": "#%%\n"
    },
    "id": "uYus6ul5J7pq",
    "colab_type": "code",
    "colab": {},
    "outputId": "741e9841-a5b2-43af-f633-00da24c2cb1b"
   },
   "source": [
    "len_ds = len(commandDataset)\n",
    "len_train = int(0.8*len_ds)\n",
    "len_val = len_ds - len_train\n",
    "\n",
    "train_ds, val_ds = torch.utils.data.random_split(commandDataset,[len_train,len_val])\n",
    "\n",
    "print(\"Trainingsdaten:\", len(train_ds))\n",
    "print(\"Evaluierungsdaten:\", len(val_ds))"
   ],
   "execution_count": 45,
   "outputs": [
    {
     "name": "stdout",
     "output_type": "stream",
     "text": [
      "Trainingsdaten: 45878\n",
      "Evaluierungsdaten: 11470\n"
     ]
    }
   ]
  },
  {
   "cell_type": "markdown",
   "metadata": {
    "id": "F8-K50fbJ7pv",
    "colab_type": "text"
   },
   "source": [
    "### Balance in Datasets\n",
    "\n",
    "Im Folgenden wird die Verteilung der Einträge nach Label in den verschiedenen Datensätzen\n",
    "visuell verglichen. Da der Prozess relativ rechenaufwendig ist, kann dieser Abschnitt\n",
    "übersprungen werden indem die Variable `showDataBalance` auf `False` gesetzt wird."
   ]
  },
  {
   "cell_type": "code",
   "metadata": {
    "pycharm": {
     "name": "#%%\n"
    },
    "id": "B5IH7wyeJ7pw",
    "colab_type": "code",
    "colab": {},
    "outputId": "bb5642dc-61a7-4bfb-dd37-4b6b25a4ba5a"
   },
   "source": [
    "if showDataBalance == True:\n",
    "\n",
    "    complete_balance = dataBalance(commandDataset)\n",
    "    train_balance = dataBalance(train_ds)\n",
    "    val_balance = dataBalance(val_ds)\n",
    "\n",
    "    pie_labels = np.arange(commandDataset.classes)\n",
    "\n",
    "    if len(train_balance) < commandDataset.classes or len(val_balance) < commandDataset.classes:\n",
    "        print(\"Datensatz ist zu klein für zufälligen Splitt.\\nNicht alle Klassen sind im Train und Test Splitt vertretten.\")\n",
    "    else:\n",
    "        plt.figure(figsize=(15, 5))\n",
    "        plt.subplot(131)\n",
    "        plt.pie(complete_balance, labels=pie_labels, counterclock=False, autopct='%1.1f%%',startangle=90,pctdistance=0.8)\n",
    "        plt.title(\"Complete Dataset\")\n",
    "        plt.subplot(132)\n",
    "        plt.pie(train_balance, labels=pie_labels, counterclock=False, autopct='%1.1f%%',startangle=90,pctdistance=0.8)\n",
    "        plt.title(\"Train Dataset\")\n",
    "        plt.subplot(133)\n",
    "        plt.pie(val_balance, labels=pie_labels, counterclock=False, autopct='%1.1f%%',startangle=90,pctdistance=0.8)\n",
    "        plt.title(\"Validation Dataset\")\n",
    "        plt.show()\n",
    "else:\n",
    "    print(\"Inorder to plot data balance set showDateBalance=True.\")"
   ],
   "execution_count": 46,
   "outputs": [
    {
     "name": "stdout",
     "output_type": "stream",
     "text": [
      "Inorder to plot data balance set showDateBalance=True.\n"
     ]
    }
   ]
  },
  {
   "cell_type": "markdown",
   "metadata": {
    "id": "ANcGiGMZJ7p0",
    "colab_type": "text"
   },
   "source": [
    "### DataLoader\n",
    "\n",
    "`DataLoader` bilden aus den Einträgen in einem Datensatz Batches. Durch `shuffle=True` werden\n",
    "die Batches aus zufälligen Datensatzeinträgen zusammengestellt. Die Größe der Batches wird durch die Variable\n",
    "`batchSize` angegeben."
   ]
  },
  {
   "cell_type": "code",
   "metadata": {
    "pycharm": {
     "name": "#%%\n"
    },
    "id": "XSnV_Gb_J7p1",
    "colab_type": "code",
    "colab": {},
    "outputId": "3dfe3613-66b2-465b-bd56-e9319c0e8e9f"
   },
   "source": [
    "train_dl = torch.utils.data.DataLoader(train_ds, batch_size=batchSize, shuffle=True)\n",
    "val_dl = torch.utils.data.DataLoader(val_ds, batch_size=batchSize, shuffle=True)\n",
    "\n",
    "print(\"Batches im Trainingsdatensatz:\",len(train_dl))\n",
    "print(\"Batches im Evaluierungsdatensatz:\",len(val_dl))"
   ],
   "execution_count": 47,
   "outputs": [
    {
     "name": "stdout",
     "output_type": "stream",
     "text": [
      "Batches im Trainingsdatensatz: 359\n",
      "Batches im Evaluierungsdatensatz: 90\n"
     ]
    }
   ]
  },
  {
   "cell_type": "markdown",
   "metadata": {
    "id": "lEsfrnEjJ7p5",
    "colab_type": "text"
   },
   "source": [
    "## Model\n",
    "\n",
    "### VGG-19 mit Batch Normalisation und kompatibel mit ONNX und Barracuda"
   ]
  },
  {
   "cell_type": "code",
   "metadata": {
    "pycharm": {
     "name": "#%%\n"
    },
    "id": "QwQGRuY_J7p8",
    "colab_type": "code",
    "colab": {},
    "outputId": "11b3c7ed-7816-4e65-97bc-2cced664be16"
   },
   "source": [
    "if modelType == \"VGG\":\n",
    "    model = VGG.VGG(commandDataset.classes)\n",
    "elif modelType == \"ResNet\":\n",
    "    model = torchvision.models.resnet34()\n",
    "    model.conv1 = nn.Conv2d(1, 64, kernel_size=(7, 7), stride=(2, 2), padding=(3, 3), bias=False)\n",
    "else:\n",
    "    print(\"Unknown Model\")\n",
    "\n",
    "model = model.to(device)\n",
    "summary(model, (1,32,32))\n",
    "# print(model)"
   ],
   "execution_count": 48,
   "outputs": [
    {
     "name": "stdout",
     "output_type": "stream",
     "text": [
      "----------------------------------------------------------------\n",
      "        Layer (type)               Output Shape         Param #\n",
      "================================================================\n",
      "            Conv2d-1           [-1, 64, 16, 16]           3,136\n",
      "       BatchNorm2d-2           [-1, 64, 16, 16]             128\n",
      "              ReLU-3           [-1, 64, 16, 16]               0\n",
      "         MaxPool2d-4             [-1, 64, 8, 8]               0\n",
      "            Conv2d-5             [-1, 64, 8, 8]          36,864\n",
      "       BatchNorm2d-6             [-1, 64, 8, 8]             128\n",
      "              ReLU-7             [-1, 64, 8, 8]               0\n",
      "            Conv2d-8             [-1, 64, 8, 8]          36,864\n",
      "       BatchNorm2d-9             [-1, 64, 8, 8]             128\n",
      "             ReLU-10             [-1, 64, 8, 8]               0\n",
      "       BasicBlock-11             [-1, 64, 8, 8]               0\n",
      "           Conv2d-12             [-1, 64, 8, 8]          36,864\n",
      "      BatchNorm2d-13             [-1, 64, 8, 8]             128\n",
      "             ReLU-14             [-1, 64, 8, 8]               0\n",
      "           Conv2d-15             [-1, 64, 8, 8]          36,864\n",
      "      BatchNorm2d-16             [-1, 64, 8, 8]             128\n",
      "             ReLU-17             [-1, 64, 8, 8]               0\n",
      "       BasicBlock-18             [-1, 64, 8, 8]               0\n",
      "           Conv2d-19             [-1, 64, 8, 8]          36,864\n",
      "      BatchNorm2d-20             [-1, 64, 8, 8]             128\n",
      "             ReLU-21             [-1, 64, 8, 8]               0\n",
      "           Conv2d-22             [-1, 64, 8, 8]          36,864\n",
      "      BatchNorm2d-23             [-1, 64, 8, 8]             128\n",
      "             ReLU-24             [-1, 64, 8, 8]               0\n",
      "       BasicBlock-25             [-1, 64, 8, 8]               0\n",
      "           Conv2d-26            [-1, 128, 4, 4]          73,728\n",
      "      BatchNorm2d-27            [-1, 128, 4, 4]             256\n",
      "             ReLU-28            [-1, 128, 4, 4]               0\n",
      "           Conv2d-29            [-1, 128, 4, 4]         147,456\n",
      "      BatchNorm2d-30            [-1, 128, 4, 4]             256\n",
      "           Conv2d-31            [-1, 128, 4, 4]           8,192\n",
      "      BatchNorm2d-32            [-1, 128, 4, 4]             256\n",
      "             ReLU-33            [-1, 128, 4, 4]               0\n",
      "       BasicBlock-34            [-1, 128, 4, 4]               0\n",
      "           Conv2d-35            [-1, 128, 4, 4]         147,456\n",
      "      BatchNorm2d-36            [-1, 128, 4, 4]             256\n",
      "             ReLU-37            [-1, 128, 4, 4]               0\n",
      "           Conv2d-38            [-1, 128, 4, 4]         147,456\n",
      "      BatchNorm2d-39            [-1, 128, 4, 4]             256\n",
      "             ReLU-40            [-1, 128, 4, 4]               0\n",
      "       BasicBlock-41            [-1, 128, 4, 4]               0\n",
      "           Conv2d-42            [-1, 128, 4, 4]         147,456\n",
      "      BatchNorm2d-43            [-1, 128, 4, 4]             256\n",
      "             ReLU-44            [-1, 128, 4, 4]               0\n",
      "           Conv2d-45            [-1, 128, 4, 4]         147,456\n",
      "      BatchNorm2d-46            [-1, 128, 4, 4]             256\n",
      "             ReLU-47            [-1, 128, 4, 4]               0\n",
      "       BasicBlock-48            [-1, 128, 4, 4]               0\n",
      "           Conv2d-49            [-1, 128, 4, 4]         147,456\n",
      "      BatchNorm2d-50            [-1, 128, 4, 4]             256\n",
      "             ReLU-51            [-1, 128, 4, 4]               0\n",
      "           Conv2d-52            [-1, 128, 4, 4]         147,456\n",
      "      BatchNorm2d-53            [-1, 128, 4, 4]             256\n",
      "             ReLU-54            [-1, 128, 4, 4]               0\n",
      "       BasicBlock-55            [-1, 128, 4, 4]               0\n",
      "           Conv2d-56            [-1, 256, 2, 2]         294,912\n",
      "      BatchNorm2d-57            [-1, 256, 2, 2]             512\n",
      "             ReLU-58            [-1, 256, 2, 2]               0\n",
      "           Conv2d-59            [-1, 256, 2, 2]         589,824\n",
      "      BatchNorm2d-60            [-1, 256, 2, 2]             512\n",
      "           Conv2d-61            [-1, 256, 2, 2]          32,768\n",
      "      BatchNorm2d-62            [-1, 256, 2, 2]             512\n",
      "             ReLU-63            [-1, 256, 2, 2]               0\n",
      "       BasicBlock-64            [-1, 256, 2, 2]               0\n",
      "           Conv2d-65            [-1, 256, 2, 2]         589,824\n",
      "      BatchNorm2d-66            [-1, 256, 2, 2]             512\n",
      "             ReLU-67            [-1, 256, 2, 2]               0\n",
      "           Conv2d-68            [-1, 256, 2, 2]         589,824\n",
      "      BatchNorm2d-69            [-1, 256, 2, 2]             512\n",
      "             ReLU-70            [-1, 256, 2, 2]               0\n",
      "       BasicBlock-71            [-1, 256, 2, 2]               0\n",
      "           Conv2d-72            [-1, 256, 2, 2]         589,824\n",
      "      BatchNorm2d-73            [-1, 256, 2, 2]             512\n",
      "             ReLU-74            [-1, 256, 2, 2]               0\n",
      "           Conv2d-75            [-1, 256, 2, 2]         589,824\n",
      "      BatchNorm2d-76            [-1, 256, 2, 2]             512\n",
      "             ReLU-77            [-1, 256, 2, 2]               0\n",
      "       BasicBlock-78            [-1, 256, 2, 2]               0\n",
      "           Conv2d-79            [-1, 256, 2, 2]         589,824\n",
      "      BatchNorm2d-80            [-1, 256, 2, 2]             512\n",
      "             ReLU-81            [-1, 256, 2, 2]               0\n",
      "           Conv2d-82            [-1, 256, 2, 2]         589,824\n",
      "      BatchNorm2d-83            [-1, 256, 2, 2]             512\n",
      "             ReLU-84            [-1, 256, 2, 2]               0\n",
      "       BasicBlock-85            [-1, 256, 2, 2]               0\n",
      "           Conv2d-86            [-1, 256, 2, 2]         589,824\n",
      "      BatchNorm2d-87            [-1, 256, 2, 2]             512\n",
      "             ReLU-88            [-1, 256, 2, 2]               0\n",
      "           Conv2d-89            [-1, 256, 2, 2]         589,824\n",
      "      BatchNorm2d-90            [-1, 256, 2, 2]             512\n",
      "             ReLU-91            [-1, 256, 2, 2]               0\n",
      "       BasicBlock-92            [-1, 256, 2, 2]               0\n",
      "           Conv2d-93            [-1, 256, 2, 2]         589,824\n",
      "      BatchNorm2d-94            [-1, 256, 2, 2]             512\n",
      "             ReLU-95            [-1, 256, 2, 2]               0\n",
      "           Conv2d-96            [-1, 256, 2, 2]         589,824\n",
      "      BatchNorm2d-97            [-1, 256, 2, 2]             512\n",
      "             ReLU-98            [-1, 256, 2, 2]               0\n",
      "       BasicBlock-99            [-1, 256, 2, 2]               0\n",
      "          Conv2d-100            [-1, 512, 1, 1]       1,179,648\n",
      "     BatchNorm2d-101            [-1, 512, 1, 1]           1,024\n",
      "            ReLU-102            [-1, 512, 1, 1]               0\n",
      "          Conv2d-103            [-1, 512, 1, 1]       2,359,296\n",
      "     BatchNorm2d-104            [-1, 512, 1, 1]           1,024\n",
      "          Conv2d-105            [-1, 512, 1, 1]         131,072\n",
      "     BatchNorm2d-106            [-1, 512, 1, 1]           1,024\n",
      "            ReLU-107            [-1, 512, 1, 1]               0\n",
      "      BasicBlock-108            [-1, 512, 1, 1]               0\n",
      "          Conv2d-109            [-1, 512, 1, 1]       2,359,296\n",
      "     BatchNorm2d-110            [-1, 512, 1, 1]           1,024\n",
      "            ReLU-111            [-1, 512, 1, 1]               0\n",
      "          Conv2d-112            [-1, 512, 1, 1]       2,359,296\n",
      "     BatchNorm2d-113            [-1, 512, 1, 1]           1,024\n",
      "            ReLU-114            [-1, 512, 1, 1]               0\n",
      "      BasicBlock-115            [-1, 512, 1, 1]               0\n",
      "          Conv2d-116            [-1, 512, 1, 1]       2,359,296\n",
      "     BatchNorm2d-117            [-1, 512, 1, 1]           1,024\n",
      "            ReLU-118            [-1, 512, 1, 1]               0\n",
      "          Conv2d-119            [-1, 512, 1, 1]       2,359,296\n",
      "     BatchNorm2d-120            [-1, 512, 1, 1]           1,024\n",
      "            ReLU-121            [-1, 512, 1, 1]               0\n",
      "      BasicBlock-122            [-1, 512, 1, 1]               0\n",
      "AdaptiveAvgPool2d-123            [-1, 512, 1, 1]               0\n",
      "          Linear-124                 [-1, 1000]         513,000\n",
      "================================================================\n",
      "Total params: 21,791,400\n",
      "Trainable params: 21,791,400\n",
      "Non-trainable params: 0\n",
      "----------------------------------------------------------------\n",
      "Input size (MB): 0.00\n",
      "Forward/backward pass size (MB): 1.98\n",
      "Params size (MB): 83.13\n",
      "Estimated Total Size (MB): 85.11\n",
      "----------------------------------------------------------------\n"
     ]
    }
   ]
  },
  {
   "cell_type": "markdown",
   "metadata": {
    "id": "ODKo0qquJ7qB",
    "colab_type": "text"
   },
   "source": [
    "## Training\n",
    "\n",
    "### Loss-Funktion\n",
    "\n",
    "Für Multi-Class-Image-Classification wird oft das CrossEntropyLoss verwendet. Pro Batch wird ein\n",
    "Durchschnittswert berechnet."
   ]
  },
  {
   "cell_type": "code",
   "metadata": {
    "pycharm": {
     "name": "#%%\n"
    },
    "id": "ArEA4r3oJ7qB",
    "colab_type": "code",
    "colab": {}
   },
   "source": [
    "loss_func = nn.CrossEntropyLoss(reduction=\"mean\")\n",
    "loss_hist = []\n",
    "loss_hist_eval = []"
   ],
   "execution_count": 49,
   "outputs": []
  },
  {
   "cell_type": "markdown",
   "metadata": {
    "id": "48nl9TKhJ7qE",
    "colab_type": "text"
   },
   "source": [
    "### Metrik\n",
    "\n",
    "Als Metrik wird pro Batch der prozentuale Anteil der Fälle, in denen die Klassifizierung erfolgreich war,\n",
    "angegeben."
   ]
  },
  {
   "cell_type": "code",
   "metadata": {
    "pycharm": {
     "name": "#%%\n"
    },
    "id": "9yot3oXpJ7qF",
    "colab_type": "code",
    "colab": {}
   },
   "source": [
    "acc_func = lambda y_real, y_pred:(y_real == y_pred.argmax(1)).sum().item() # /batchSize\n",
    "acc_hist = []\n",
    "acc_hist_eval = []"
   ],
   "execution_count": 50,
   "outputs": []
  },
  {
   "cell_type": "markdown",
   "metadata": {
    "id": "gnZcbjAtKKJc",
    "colab_type": "text"
   },
   "source": [
    "###Confusion-Matrix\n",
    "Diese Funktionen dienen dazu, die Confusion-Matrix zu erstellen und zu plotten. Die Diagonale der Matrix stellt die Anzahl der richtig ermittelten Klassen dar."
   ]
  },
  {
   "cell_type": "code",
   "metadata": {
    "id": "gpKh7Gx8KP5X",
    "colab_type": "code",
    "colab": {}
   },
   "source": [
    "def create_confusion_matrix(labels, predictions):\n",
    "  label_names = [0, 1, 2, 3, 4, 5, 6, 7, 8, 9, 10, 11, 12, 13, 14, 15]\n",
    "  cmx = confusion_matrix(labels, predictions, labels=label_names)\n",
    "\n",
    "  plt.imshow(cmx)\n",
    "  title = ('VGG' if modelType == 'VGG' else 'ResNet') + ' & ' + ('Adam' if optimizerType == 'Adam' else 'SGD')\n",
    "  plt.title(title)\n",
    "  plt.xticks(rotation=50)\n",
    "  plt.xticks(range(0, 16), ['zero', 'one', 'two', 'three', 'four', 'five', 'six', 'seven', 'eight', 'nine', 'forward', 'backward', 'left', 'right', 'up', 'down'])\n",
    "  plt.yticks(range(0, 16), ['zero', 'one', 'two', 'three', 'four', 'five', 'six', 'seven', 'eight', 'nine', 'forward', 'backward', 'left', 'right', 'up', 'down'])\n",
    "  plt.colorbar()\n",
    "  plt.show()"
   ],
   "execution_count": 51,
   "outputs": []
  },
  {
   "cell_type": "markdown",
   "metadata": {
    "id": "-IRxxmTAJ7qI",
    "colab_type": "text"
   },
   "source": [
    "### Optimizer"
   ]
  },
  {
   "cell_type": "code",
   "metadata": {
    "pycharm": {
     "name": "#%%\n"
    },
    "id": "FOFP8B_8J7qI",
    "colab_type": "code",
    "colab": {}
   },
   "source": [
    "if optimizerType == \"Adam\":\n",
    "    optimizer = torch.optim.Adam(model.parameters(), lr=learningRate)\n",
    "if optimizerType == \"SGD\":\n",
    "    optimizer = torch.optim.SGD(model.parameters(), lr=learningRate)\n"
   ],
   "execution_count": 52,
   "outputs": []
  },
  {
   "cell_type": "markdown",
   "metadata": {
    "collapsed": false,
    "pycharm": {
     "name": "#%% md\n"
    },
    "id": "ILbmhqt7J7qM",
    "colab_type": "text"
   },
   "source": [
    "### Learning Rate optimierung"
   ]
  },
  {
   "cell_type": "code",
   "metadata": {
    "pycharm": {
     "name": "#%%\n"
    },
    "id": "NXrD_gNKJ7qN",
    "colab_type": "code",
    "colab": {}
   },
   "source": [
    "lr_scheduler = torch.optim.lr_scheduler.ReduceLROnPlateau(optimizer, patience=5, factor=0.1)"
   ],
   "execution_count": 53,
   "outputs": []
  },
  {
   "cell_type": "markdown",
   "metadata": {
    "id": "LcZoeE-5J7qT",
    "colab_type": "text"
   },
   "source": [
    "### Train-Loop\n",
    "\n",
    "(Durchläuft zur Demonstration aktuell nur 3 Batches.)"
   ]
  },
  {
   "cell_type": "code",
   "metadata": {
    "pycharm": {
     "name": "#%%\n"
    },
    "id": "r6nqsjqRJ7qU",
    "colab_type": "code",
    "colab": {},
    "outputId": "52face96-b642-47e3-b357-18082e35e6d2"
   },
   "source": [
    "best_loss = float(\"inf\")\n",
    "for e in range(0,epochs):\n",
    "\n",
    "    print(\"\\nEpoche: \", e, \"[LR:\", optimizer.param_groups[0]['lr'] ,\"]\")\n",
    "    accuracy = 0\n",
    "    loss_epoch = 0\n",
    "    for x, y_real, _ in tqdm(train_dl):\n",
    "\n",
    "        model.train()\n",
    "        y_pred = model(x.to(device))\n",
    "\n",
    "        # print(\"Real-Label:\", y_real)\n",
    "        # print(\"Pred-Label:\", y_pred.argmax(1))\n",
    "\n",
    "        accuracy += acc_func(y_real, y_pred.detach().cpu())\n",
    "\n",
    "        loss = loss_func(y_pred, y_real.to(device))\n",
    "        loss_epoch += loss.item()\n",
    "\n",
    "        optimizer.zero_grad()\n",
    "        loss.backward()\n",
    "        optimizer.step()\n",
    "\n",
    "    acc_hist.append(accuracy/len(train_ds))\n",
    "    print(\"Accuracy (Train): {0:d}/{1:d} ({2:.4f})\".format(int(accuracy), len(train_ds), accuracy/len(train_ds)))\n",
    "    loss_hist.append(loss_epoch/len(train_dl))\n",
    "    print(\"Loss Batch (Train):\", loss_epoch/len(train_dl))\n",
    "\n",
    "    model.eval()\n",
    "    with torch.no_grad():\n",
    "        accuracy = 0\n",
    "        loss_epoch = 0;\n",
    "        for x, y_real, _ in tqdm(val_dl):\n",
    "\n",
    "            y_pred = model(x.to(device))\n",
    "\n",
    "            labels += y_real.cpu().tolist()\n",
    "            predictions += y_pred.argmax(1).cpu().tolist()\n",
    "\n",
    "            accuracy += acc_func(y_real, y_pred.detach().cpu())\n",
    "            acc_hist_eval.append(accuracy)\n",
    "\n",
    "            loss = loss_func(y_pred,y_real.to(device))\n",
    "            loss_epoch += loss.item()\n",
    "\n",
    "        acc_hist_eval.append(accuracy / len(val_ds))\n",
    "        print(\"Accuracy (Eval): {0:d}/{1:d} ({2:.4f})\".format(int(accuracy), len(val_ds), accuracy / len(val_ds)))\n",
    "        loss_hist_eval.append(loss_epoch / len(val_dl))\n",
    "        print(\"Loss Batch (Eval):\", loss_epoch / len(val_dl))\n",
    "\n",
    "        if loss_epoch < best_loss:\n",
    "            best_loss = loss_epoch\n",
    "            torch.save(model.state_dict(),\"Weights/bestWeights_\" + modelType + \"_\" + optimizerType + \".pth\")\n",
    "            print(\"Best weights after epoch\", e)\n",
    "\n",
    "        lr_scheduler.step(metrics=loss_epoch)\n",
    "\n",
    "    torch.save(model.state_dict(),\"Weights/lastWeights_\" + modelType + \"_\" + optimizerType + \".pth\")\n",
    "\n",
    "    cmx = create_confusion_matrix(labels, prediction)\n",
    "\n",
    "    #empty out labels and predictions to fill with new values in next epoch\n",
    "    labels.clear()\n",
    "    predictions.clear()\n",
    "\n"
   ],
   "execution_count": 54,
   "outputs": [
    {
     "name": "stderr",
     "output_type": "stream",
     "text": [
      " 29%|██▉       | 105/359 [00:51<02:03,  2.05it/s]\n"
     ]
    },
    {
     "name": "stdout",
     "output_type": "stream",
     "text": [
      "\n",
      "Epoche:  0 [LR: 0.0001 ]\n"
     ]
    },
    {
     "ename": "KeyboardInterrupt",
     "evalue": "",
     "output_type": "error",
     "traceback": [
      "\u001B[1;31m---------------------------------------------------------------------------\u001B[0m",
      "\u001B[1;31mKeyboardInterrupt\u001B[0m                         Traceback (most recent call last)",
      "\u001B[1;32m<ipython-input-54-e97a3a9caf60>\u001B[0m in \u001B[0;36m<module>\u001B[1;34m\u001B[0m\n\u001B[0;32m      5\u001B[0m     \u001B[0maccuracy\u001B[0m \u001B[1;33m=\u001B[0m \u001B[1;36m0\u001B[0m\u001B[1;33m\u001B[0m\u001B[1;33m\u001B[0m\u001B[0m\n\u001B[0;32m      6\u001B[0m     \u001B[0mloss_epoch\u001B[0m \u001B[1;33m=\u001B[0m \u001B[1;36m0\u001B[0m\u001B[1;33m\u001B[0m\u001B[1;33m\u001B[0m\u001B[0m\n\u001B[1;32m----> 7\u001B[1;33m     \u001B[1;32mfor\u001B[0m \u001B[0mx\u001B[0m\u001B[1;33m,\u001B[0m \u001B[0my_real\u001B[0m\u001B[1;33m,\u001B[0m \u001B[0m_\u001B[0m \u001B[1;32min\u001B[0m \u001B[0mtqdm\u001B[0m\u001B[1;33m(\u001B[0m\u001B[0mtrain_dl\u001B[0m\u001B[1;33m)\u001B[0m\u001B[1;33m:\u001B[0m\u001B[1;33m\u001B[0m\u001B[1;33m\u001B[0m\u001B[0m\n\u001B[0m\u001B[0;32m      8\u001B[0m \u001B[1;33m\u001B[0m\u001B[0m\n\u001B[0;32m      9\u001B[0m         \u001B[0mmodel\u001B[0m\u001B[1;33m.\u001B[0m\u001B[0mtrain\u001B[0m\u001B[1;33m(\u001B[0m\u001B[1;33m)\u001B[0m\u001B[1;33m\u001B[0m\u001B[1;33m\u001B[0m\u001B[0m\n",
      "\u001B[1;32md:\\alexander_pech\\python-projects\\unicornn\\venv\\lib\\site-packages\\tqdm\\std.py\u001B[0m in \u001B[0;36m__iter__\u001B[1;34m(self)\u001B[0m\n\u001B[0;32m   1127\u001B[0m \u001B[1;33m\u001B[0m\u001B[0m\n\u001B[0;32m   1128\u001B[0m         \u001B[1;32mtry\u001B[0m\u001B[1;33m:\u001B[0m\u001B[1;33m\u001B[0m\u001B[1;33m\u001B[0m\u001B[0m\n\u001B[1;32m-> 1129\u001B[1;33m             \u001B[1;32mfor\u001B[0m \u001B[0mobj\u001B[0m \u001B[1;32min\u001B[0m \u001B[0miterable\u001B[0m\u001B[1;33m:\u001B[0m\u001B[1;33m\u001B[0m\u001B[1;33m\u001B[0m\u001B[0m\n\u001B[0m\u001B[0;32m   1130\u001B[0m                 \u001B[1;32myield\u001B[0m \u001B[0mobj\u001B[0m\u001B[1;33m\u001B[0m\u001B[1;33m\u001B[0m\u001B[0m\n\u001B[0;32m   1131\u001B[0m                 \u001B[1;31m# Update and possibly print the progressbar.\u001B[0m\u001B[1;33m\u001B[0m\u001B[1;33m\u001B[0m\u001B[1;33m\u001B[0m\u001B[0m\n",
      "\u001B[1;32md:\\alexander_pech\\python-projects\\unicornn\\venv\\lib\\site-packages\\torch\\utils\\data\\dataloader.py\u001B[0m in \u001B[0;36m__next__\u001B[1;34m(self)\u001B[0m\n\u001B[0;32m    343\u001B[0m \u001B[1;33m\u001B[0m\u001B[0m\n\u001B[0;32m    344\u001B[0m     \u001B[1;32mdef\u001B[0m \u001B[0m__next__\u001B[0m\u001B[1;33m(\u001B[0m\u001B[0mself\u001B[0m\u001B[1;33m)\u001B[0m\u001B[1;33m:\u001B[0m\u001B[1;33m\u001B[0m\u001B[1;33m\u001B[0m\u001B[0m\n\u001B[1;32m--> 345\u001B[1;33m         \u001B[0mdata\u001B[0m \u001B[1;33m=\u001B[0m \u001B[0mself\u001B[0m\u001B[1;33m.\u001B[0m\u001B[0m_next_data\u001B[0m\u001B[1;33m(\u001B[0m\u001B[1;33m)\u001B[0m\u001B[1;33m\u001B[0m\u001B[1;33m\u001B[0m\u001B[0m\n\u001B[0m\u001B[0;32m    346\u001B[0m         \u001B[0mself\u001B[0m\u001B[1;33m.\u001B[0m\u001B[0m_num_yielded\u001B[0m \u001B[1;33m+=\u001B[0m \u001B[1;36m1\u001B[0m\u001B[1;33m\u001B[0m\u001B[1;33m\u001B[0m\u001B[0m\n\u001B[0;32m    347\u001B[0m         \u001B[1;32mif\u001B[0m \u001B[0mself\u001B[0m\u001B[1;33m.\u001B[0m\u001B[0m_dataset_kind\u001B[0m \u001B[1;33m==\u001B[0m \u001B[0m_DatasetKind\u001B[0m\u001B[1;33m.\u001B[0m\u001B[0mIterable\u001B[0m \u001B[1;32mand\u001B[0m\u001B[0;31m \u001B[0m\u001B[0;31m\\\u001B[0m\u001B[1;33m\u001B[0m\u001B[1;33m\u001B[0m\u001B[0m\n",
      "\u001B[1;32md:\\alexander_pech\\python-projects\\unicornn\\venv\\lib\\site-packages\\torch\\utils\\data\\dataloader.py\u001B[0m in \u001B[0;36m_next_data\u001B[1;34m(self)\u001B[0m\n\u001B[0;32m    383\u001B[0m     \u001B[1;32mdef\u001B[0m \u001B[0m_next_data\u001B[0m\u001B[1;33m(\u001B[0m\u001B[0mself\u001B[0m\u001B[1;33m)\u001B[0m\u001B[1;33m:\u001B[0m\u001B[1;33m\u001B[0m\u001B[1;33m\u001B[0m\u001B[0m\n\u001B[0;32m    384\u001B[0m         \u001B[0mindex\u001B[0m \u001B[1;33m=\u001B[0m \u001B[0mself\u001B[0m\u001B[1;33m.\u001B[0m\u001B[0m_next_index\u001B[0m\u001B[1;33m(\u001B[0m\u001B[1;33m)\u001B[0m  \u001B[1;31m# may raise StopIteration\u001B[0m\u001B[1;33m\u001B[0m\u001B[1;33m\u001B[0m\u001B[0m\n\u001B[1;32m--> 385\u001B[1;33m         \u001B[0mdata\u001B[0m \u001B[1;33m=\u001B[0m \u001B[0mself\u001B[0m\u001B[1;33m.\u001B[0m\u001B[0m_dataset_fetcher\u001B[0m\u001B[1;33m.\u001B[0m\u001B[0mfetch\u001B[0m\u001B[1;33m(\u001B[0m\u001B[0mindex\u001B[0m\u001B[1;33m)\u001B[0m  \u001B[1;31m# may raise StopIteration\u001B[0m\u001B[1;33m\u001B[0m\u001B[1;33m\u001B[0m\u001B[0m\n\u001B[0m\u001B[0;32m    386\u001B[0m         \u001B[1;32mif\u001B[0m \u001B[0mself\u001B[0m\u001B[1;33m.\u001B[0m\u001B[0m_pin_memory\u001B[0m\u001B[1;33m:\u001B[0m\u001B[1;33m\u001B[0m\u001B[1;33m\u001B[0m\u001B[0m\n\u001B[0;32m    387\u001B[0m             \u001B[0mdata\u001B[0m \u001B[1;33m=\u001B[0m \u001B[0m_utils\u001B[0m\u001B[1;33m.\u001B[0m\u001B[0mpin_memory\u001B[0m\u001B[1;33m.\u001B[0m\u001B[0mpin_memory\u001B[0m\u001B[1;33m(\u001B[0m\u001B[0mdata\u001B[0m\u001B[1;33m)\u001B[0m\u001B[1;33m\u001B[0m\u001B[1;33m\u001B[0m\u001B[0m\n",
      "\u001B[1;32md:\\alexander_pech\\python-projects\\unicornn\\venv\\lib\\site-packages\\torch\\utils\\data\\_utils\\fetch.py\u001B[0m in \u001B[0;36mfetch\u001B[1;34m(self, possibly_batched_index)\u001B[0m\n\u001B[0;32m     42\u001B[0m     \u001B[1;32mdef\u001B[0m \u001B[0mfetch\u001B[0m\u001B[1;33m(\u001B[0m\u001B[0mself\u001B[0m\u001B[1;33m,\u001B[0m \u001B[0mpossibly_batched_index\u001B[0m\u001B[1;33m)\u001B[0m\u001B[1;33m:\u001B[0m\u001B[1;33m\u001B[0m\u001B[1;33m\u001B[0m\u001B[0m\n\u001B[0;32m     43\u001B[0m         \u001B[1;32mif\u001B[0m \u001B[0mself\u001B[0m\u001B[1;33m.\u001B[0m\u001B[0mauto_collation\u001B[0m\u001B[1;33m:\u001B[0m\u001B[1;33m\u001B[0m\u001B[1;33m\u001B[0m\u001B[0m\n\u001B[1;32m---> 44\u001B[1;33m             \u001B[0mdata\u001B[0m \u001B[1;33m=\u001B[0m \u001B[1;33m[\u001B[0m\u001B[0mself\u001B[0m\u001B[1;33m.\u001B[0m\u001B[0mdataset\u001B[0m\u001B[1;33m[\u001B[0m\u001B[0midx\u001B[0m\u001B[1;33m]\u001B[0m \u001B[1;32mfor\u001B[0m \u001B[0midx\u001B[0m \u001B[1;32min\u001B[0m \u001B[0mpossibly_batched_index\u001B[0m\u001B[1;33m]\u001B[0m\u001B[1;33m\u001B[0m\u001B[1;33m\u001B[0m\u001B[0m\n\u001B[0m\u001B[0;32m     45\u001B[0m         \u001B[1;32melse\u001B[0m\u001B[1;33m:\u001B[0m\u001B[1;33m\u001B[0m\u001B[1;33m\u001B[0m\u001B[0m\n\u001B[0;32m     46\u001B[0m             \u001B[0mdata\u001B[0m \u001B[1;33m=\u001B[0m \u001B[0mself\u001B[0m\u001B[1;33m.\u001B[0m\u001B[0mdataset\u001B[0m\u001B[1;33m[\u001B[0m\u001B[0mpossibly_batched_index\u001B[0m\u001B[1;33m]\u001B[0m\u001B[1;33m\u001B[0m\u001B[1;33m\u001B[0m\u001B[0m\n",
      "\u001B[1;32md:\\alexander_pech\\python-projects\\unicornn\\venv\\lib\\site-packages\\torch\\utils\\data\\_utils\\fetch.py\u001B[0m in \u001B[0;36m<listcomp>\u001B[1;34m(.0)\u001B[0m\n\u001B[0;32m     42\u001B[0m     \u001B[1;32mdef\u001B[0m \u001B[0mfetch\u001B[0m\u001B[1;33m(\u001B[0m\u001B[0mself\u001B[0m\u001B[1;33m,\u001B[0m \u001B[0mpossibly_batched_index\u001B[0m\u001B[1;33m)\u001B[0m\u001B[1;33m:\u001B[0m\u001B[1;33m\u001B[0m\u001B[1;33m\u001B[0m\u001B[0m\n\u001B[0;32m     43\u001B[0m         \u001B[1;32mif\u001B[0m \u001B[0mself\u001B[0m\u001B[1;33m.\u001B[0m\u001B[0mauto_collation\u001B[0m\u001B[1;33m:\u001B[0m\u001B[1;33m\u001B[0m\u001B[1;33m\u001B[0m\u001B[0m\n\u001B[1;32m---> 44\u001B[1;33m             \u001B[0mdata\u001B[0m \u001B[1;33m=\u001B[0m \u001B[1;33m[\u001B[0m\u001B[0mself\u001B[0m\u001B[1;33m.\u001B[0m\u001B[0mdataset\u001B[0m\u001B[1;33m[\u001B[0m\u001B[0midx\u001B[0m\u001B[1;33m]\u001B[0m \u001B[1;32mfor\u001B[0m \u001B[0midx\u001B[0m \u001B[1;32min\u001B[0m \u001B[0mpossibly_batched_index\u001B[0m\u001B[1;33m]\u001B[0m\u001B[1;33m\u001B[0m\u001B[1;33m\u001B[0m\u001B[0m\n\u001B[0m\u001B[0;32m     45\u001B[0m         \u001B[1;32melse\u001B[0m\u001B[1;33m:\u001B[0m\u001B[1;33m\u001B[0m\u001B[1;33m\u001B[0m\u001B[0m\n\u001B[0;32m     46\u001B[0m             \u001B[0mdata\u001B[0m \u001B[1;33m=\u001B[0m \u001B[0mself\u001B[0m\u001B[1;33m.\u001B[0m\u001B[0mdataset\u001B[0m\u001B[1;33m[\u001B[0m\u001B[0mpossibly_batched_index\u001B[0m\u001B[1;33m]\u001B[0m\u001B[1;33m\u001B[0m\u001B[1;33m\u001B[0m\u001B[0m\n",
      "\u001B[1;32md:\\alexander_pech\\python-projects\\unicornn\\venv\\lib\\site-packages\\torch\\utils\\data\\dataset.py\u001B[0m in \u001B[0;36m__getitem__\u001B[1;34m(self, idx)\u001B[0m\n\u001B[0;32m    255\u001B[0m \u001B[1;33m\u001B[0m\u001B[0m\n\u001B[0;32m    256\u001B[0m     \u001B[1;32mdef\u001B[0m \u001B[0m__getitem__\u001B[0m\u001B[1;33m(\u001B[0m\u001B[0mself\u001B[0m\u001B[1;33m,\u001B[0m \u001B[0midx\u001B[0m\u001B[1;33m)\u001B[0m\u001B[1;33m:\u001B[0m\u001B[1;33m\u001B[0m\u001B[1;33m\u001B[0m\u001B[0m\n\u001B[1;32m--> 257\u001B[1;33m         \u001B[1;32mreturn\u001B[0m \u001B[0mself\u001B[0m\u001B[1;33m.\u001B[0m\u001B[0mdataset\u001B[0m\u001B[1;33m[\u001B[0m\u001B[0mself\u001B[0m\u001B[1;33m.\u001B[0m\u001B[0mindices\u001B[0m\u001B[1;33m[\u001B[0m\u001B[0midx\u001B[0m\u001B[1;33m]\u001B[0m\u001B[1;33m]\u001B[0m\u001B[1;33m\u001B[0m\u001B[1;33m\u001B[0m\u001B[0m\n\u001B[0m\u001B[0;32m    258\u001B[0m \u001B[1;33m\u001B[0m\u001B[0m\n\u001B[0;32m    259\u001B[0m     \u001B[1;32mdef\u001B[0m \u001B[0m__len__\u001B[0m\u001B[1;33m(\u001B[0m\u001B[0mself\u001B[0m\u001B[1;33m)\u001B[0m\u001B[1;33m:\u001B[0m\u001B[1;33m\u001B[0m\u001B[1;33m\u001B[0m\u001B[0m\n",
      "\u001B[1;32m<ipython-input-43-7bde92d3e0b3>\u001B[0m in \u001B[0;36m__getitem__\u001B[1;34m(self, idx)\u001B[0m\n\u001B[0;32m     54\u001B[0m \u001B[1;33m\u001B[0m\u001B[0m\n\u001B[0;32m     55\u001B[0m     \u001B[1;32mdef\u001B[0m \u001B[0m__getitem__\u001B[0m\u001B[1;33m(\u001B[0m\u001B[0mself\u001B[0m\u001B[1;33m,\u001B[0m \u001B[0midx\u001B[0m\u001B[1;33m)\u001B[0m\u001B[1;33m:\u001B[0m\u001B[1;33m\u001B[0m\u001B[1;33m\u001B[0m\u001B[0m\n\u001B[1;32m---> 56\u001B[1;33m         \u001B[0m_image\u001B[0m \u001B[1;33m=\u001B[0m \u001B[0mwave2image\u001B[0m\u001B[1;33m(\u001B[0m\u001B[0mself\u001B[0m\u001B[1;33m.\u001B[0m\u001B[0mdatasetItems\u001B[0m\u001B[1;33m[\u001B[0m\u001B[0midx\u001B[0m\u001B[1;33m]\u001B[0m\u001B[1;33m[\u001B[0m\u001B[1;36m0\u001B[0m\u001B[1;33m]\u001B[0m\u001B[1;33m)\u001B[0m\u001B[1;33m\u001B[0m\u001B[1;33m\u001B[0m\u001B[0m\n\u001B[0m\u001B[0;32m     57\u001B[0m \u001B[1;33m\u001B[0m\u001B[0m\n\u001B[0;32m     58\u001B[0m         \u001B[1;31m# scale to Range[0;1]\u001B[0m\u001B[1;33m\u001B[0m\u001B[1;33m\u001B[0m\u001B[1;33m\u001B[0m\u001B[0m\n",
      "\u001B[1;32m<ipython-input-40-e160cca71a4e>\u001B[0m in \u001B[0;36mwave2image\u001B[1;34m(file)\u001B[0m\n\u001B[0;32m     18\u001B[0m \u001B[1;33m\u001B[0m\u001B[0m\n\u001B[0;32m     19\u001B[0m     \u001B[1;31m# Create MelSpectrum\u001B[0m\u001B[1;33m\u001B[0m\u001B[1;33m\u001B[0m\u001B[1;33m\u001B[0m\u001B[0m\n\u001B[1;32m---> 20\u001B[1;33m     \u001B[0ms\u001B[0m \u001B[1;33m=\u001B[0m \u001B[0mlibrosa\u001B[0m\u001B[1;33m.\u001B[0m\u001B[0mfeature\u001B[0m\u001B[1;33m.\u001B[0m\u001B[0mmelspectrogram\u001B[0m\u001B[1;33m(\u001B[0m\u001B[0msamples\u001B[0m\u001B[1;33m,\u001B[0m \u001B[0msr\u001B[0m\u001B[1;33m=\u001B[0m\u001B[0msample_rate\u001B[0m\u001B[1;33m,\u001B[0m \u001B[0mn_mels\u001B[0m\u001B[1;33m=\u001B[0m\u001B[1;36m32\u001B[0m\u001B[1;33m)\u001B[0m\u001B[1;33m\u001B[0m\u001B[1;33m\u001B[0m\u001B[0m\n\u001B[0m\u001B[0;32m     21\u001B[0m     \u001B[0mmel\u001B[0m \u001B[1;33m=\u001B[0m \u001B[0mlibrosa\u001B[0m\u001B[1;33m.\u001B[0m\u001B[0mpower_to_db\u001B[0m\u001B[1;33m(\u001B[0m\u001B[0ms\u001B[0m\u001B[1;33m,\u001B[0m \u001B[0mref\u001B[0m\u001B[1;33m=\u001B[0m\u001B[0mnp\u001B[0m\u001B[1;33m.\u001B[0m\u001B[0mmax\u001B[0m\u001B[1;33m)\u001B[0m\u001B[1;33m\u001B[0m\u001B[1;33m\u001B[0m\u001B[0m\n\u001B[0;32m     22\u001B[0m     \u001B[1;32mreturn\u001B[0m \u001B[0mmel\u001B[0m\u001B[1;33m\u001B[0m\u001B[1;33m\u001B[0m\u001B[0m\n",
      "\u001B[1;32md:\\alexander_pech\\python-projects\\unicornn\\venv\\lib\\site-packages\\librosa\\feature\\spectral.py\u001B[0m in \u001B[0;36mmelspectrogram\u001B[1;34m(y, sr, S, n_fft, hop_length, win_length, window, center, pad_mode, power, **kwargs)\u001B[0m\n\u001B[0;32m   1829\u001B[0m     S, n_fft = _spectrogram(y=y, S=S, n_fft=n_fft, hop_length=hop_length, power=power,\n\u001B[0;32m   1830\u001B[0m                             \u001B[0mwin_length\u001B[0m\u001B[1;33m=\u001B[0m\u001B[0mwin_length\u001B[0m\u001B[1;33m,\u001B[0m \u001B[0mwindow\u001B[0m\u001B[1;33m=\u001B[0m\u001B[0mwindow\u001B[0m\u001B[1;33m,\u001B[0m \u001B[0mcenter\u001B[0m\u001B[1;33m=\u001B[0m\u001B[0mcenter\u001B[0m\u001B[1;33m,\u001B[0m\u001B[1;33m\u001B[0m\u001B[1;33m\u001B[0m\u001B[0m\n\u001B[1;32m-> 1831\u001B[1;33m                             pad_mode=pad_mode)\n\u001B[0m\u001B[0;32m   1832\u001B[0m \u001B[1;33m\u001B[0m\u001B[0m\n\u001B[0;32m   1833\u001B[0m     \u001B[1;31m# Build a Mel filter\u001B[0m\u001B[1;33m\u001B[0m\u001B[1;33m\u001B[0m\u001B[1;33m\u001B[0m\u001B[0m\n",
      "\u001B[1;32md:\\alexander_pech\\python-projects\\unicornn\\venv\\lib\\site-packages\\librosa\\core\\spectrum.py\u001B[0m in \u001B[0;36m_spectrogram\u001B[1;34m(y, S, n_fft, hop_length, power, win_length, window, center, pad_mode)\u001B[0m\n\u001B[0;32m   2528\u001B[0m         S = np.abs(stft(y, n_fft=n_fft, hop_length=hop_length,\n\u001B[0;32m   2529\u001B[0m                         \u001B[0mwin_length\u001B[0m\u001B[1;33m=\u001B[0m\u001B[0mwin_length\u001B[0m\u001B[1;33m,\u001B[0m \u001B[0mcenter\u001B[0m\u001B[1;33m=\u001B[0m\u001B[0mcenter\u001B[0m\u001B[1;33m,\u001B[0m\u001B[1;33m\u001B[0m\u001B[1;33m\u001B[0m\u001B[0m\n\u001B[1;32m-> 2530\u001B[1;33m                         window=window, pad_mode=pad_mode))**power\n\u001B[0m\u001B[0;32m   2531\u001B[0m \u001B[1;33m\u001B[0m\u001B[0m\n\u001B[0;32m   2532\u001B[0m     \u001B[1;32mreturn\u001B[0m \u001B[0mS\u001B[0m\u001B[1;33m,\u001B[0m \u001B[0mn_fft\u001B[0m\u001B[1;33m\u001B[0m\u001B[1;33m\u001B[0m\u001B[0m\n",
      "\u001B[1;32md:\\alexander_pech\\python-projects\\unicornn\\venv\\lib\\site-packages\\librosa\\core\\spectrum.py\u001B[0m in \u001B[0;36mstft\u001B[1;34m(y, n_fft, hop_length, win_length, window, center, dtype, pad_mode)\u001B[0m\n\u001B[0;32m    237\u001B[0m \u001B[1;33m\u001B[0m\u001B[0m\n\u001B[0;32m    238\u001B[0m         stft_matrix[:, bl_s:bl_t] = fft.rfft(fft_window *\n\u001B[1;32m--> 239\u001B[1;33m                                              \u001B[0my_frames\u001B[0m\u001B[1;33m[\u001B[0m\u001B[1;33m:\u001B[0m\u001B[1;33m,\u001B[0m \u001B[0mbl_s\u001B[0m\u001B[1;33m:\u001B[0m\u001B[0mbl_t\u001B[0m\u001B[1;33m]\u001B[0m\u001B[1;33m,\u001B[0m\u001B[1;33m\u001B[0m\u001B[1;33m\u001B[0m\u001B[0m\n\u001B[0m\u001B[0;32m    240\u001B[0m                                              axis=0)\n\u001B[0;32m    241\u001B[0m     \u001B[1;32mreturn\u001B[0m \u001B[0mstft_matrix\u001B[0m\u001B[1;33m\u001B[0m\u001B[1;33m\u001B[0m\u001B[0m\n",
      "\u001B[1;31mKeyboardInterrupt\u001B[0m: "
     ]
    }
   ]
  },
  {
   "cell_type": "markdown",
   "metadata": {
    "id": "uE78pEzhJ7qg",
    "colab_type": "text"
   },
   "source": [
    "### Loss- und Accuracy-Plot\n",
    "\n",
    "(Aktuell: Loss und Accuracy der 3 durchlaufenen Batches.)"
   ]
  },
  {
   "cell_type": "code",
   "metadata": {
    "pycharm": {
     "name": "#%%\n"
    },
    "id": "7be8vcA2J7qh",
    "colab_type": "code",
    "colab": {},
    "outputId": "796407c4-abe0-44a3-ddbd-b357dede53f8"
   },
   "source": [
    "model.load_state_dict(torch.load(\"Weights/bestWeights_\" + modelType + \"_\" + optimizerType + \".pth\"))\n",
    "model = model.to(device)\n",
    "model.eval()\n",
    "\n",
    "dummy_input = torch.randn(16, 1, 32, 32, device=device)\n",
    "torch.onnx.export(model, dummy_input, \"Unicornn_\" + modelType + \"_\" + optimizerType + \".onnx\", verbose=True)"
   ],
   "execution_count": null,
   "outputs": []
  },
  {
   "cell_type": "markdown",
   "metadata": {
    "id": "H0vR6z2_J7qn",
    "colab_type": "text"
   },
   "source": [
    "## Deployment Simulation\n",
    "\n",
    "Der folgende Ablauf findet später in Unity mit Barracuda statt."
   ]
  },
  {
   "cell_type": "code",
   "metadata": {
    "pycharm": {
     "name": "#%%\n"
    },
    "id": "xjKJPHRtJ7qo",
    "colab_type": "code",
    "colab": {}
   },
   "source": [
    "classified = []\n",
    "for i in range(300):\n",
    "    pred = model(torch.randn(1, 1, 32, 32, device=device)).argmax(1).item()\n",
    "    if pred != commandDataset.classes:\n",
    "        classified.append(pred)\n",
    "\n",
    "    if 16 in classified and 25 in classified:\n",
    "        print(\"Create Cube\")\n",
    "        classified = []\n",
    "    if 16 in classified and 26 in classified:\n",
    "        print(\"Create Sphere\")\n",
    "        classified = []\n",
    "    if 16 in classified and 27 in classified:\n",
    "        print(\"Create Plane\")\n",
    "        classified = []"
   ],
   "execution_count": null,
   "outputs": []
  },
  {
   "cell_type": "markdown",
   "metadata": {
    "id": "rGgjF93fJ7qt",
    "colab_type": "text"
   },
   "source": [
    "### Vorhersage für leere Textur zum Vergleich mit Barracuda-Ergebnis in Unity"
   ]
  },
  {
   "cell_type": "code",
   "metadata": {
    "pycharm": {
     "name": "#%%\n"
    },
    "id": "Saz3BIXqJ7qu",
    "colab_type": "code",
    "colab": {},
    "outputId": "b60d25d6-e30c-4d85-e75b-e1742c62524a"
   },
   "source": [
    "print(\"PredictedClass für leere Textur:\", model(torch.ones([1,1,32,32], device=device)).argmax(1).item())"
   ],
   "execution_count": null,
   "outputs": []
  }
 ]
}