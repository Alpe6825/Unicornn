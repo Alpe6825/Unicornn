{
  "nbformat": 4,
  "nbformat_minor": 0,
  "metadata": {
    "kernelspec": {
      "display_name": "Python 3",
      "language": "python",
      "name": "python3"
    },
    "language_info": {
      "codemirror_mode": {
        "name": "ipython",
        "version": 2
      },
      "file_extension": ".py",
      "mimetype": "text/x-python",
      "name": "python",
      "nbconvert_exporter": "python",
      "pygments_lexer": "ipython2",
      "version": "2.7.6"
    },
    "colab": {
      "name": "train.ipynb",
      "provenance": []
    }
  },
  "cells": [
    {
      "cell_type": "markdown",
      "metadata": {
        "collapsed": true,
        "pycharm": {
          "name": "#%% md\n"
        },
        "id": "9AQCL4isffKh",
        "colab_type": "text"
      },
      "source": [
        "# Unicornn\n"
      ]
    },
    {
      "cell_type": "code",
      "metadata": {
        "pycharm": {
          "name": "#%%\n"
        },
        "id": "HmwoZlXwffKj",
        "colab_type": "code",
        "colab": {}
      },
      "source": [
        "import os\n",
        "import random\n",
        "import numpy as np\n",
        "import matplotlib.pyplot as plt\n",
        "import torch\n",
        "import torch.nn as nn\n",
        "import torchvision\n",
        "import librosa\n",
        "import collections\n",
        "\n",
        "from tqdm import tqdm"
      ],
      "execution_count": 0,
      "outputs": []
    },
    {
      "cell_type": "markdown",
      "metadata": {
        "collapsed": false,
        "id": "XSeM9nFRffKr",
        "colab_type": "text"
      },
      "source": [
        "## Params\n",
        "Die hier aufgelisteten Parameter ermöglichen die wichtigsten Einstellungen."
      ]
    },
    {
      "cell_type": "code",
      "metadata": {
        "pycharm": {
          "name": "#%%\n"
        },
        "id": "VB82LjBCffKs",
        "colab_type": "code",
        "outputId": "e6f2fd5d-89d3-4419-e2cb-d46a02ca0204",
        "colab": {}
      },
      "source": [
        "# Generel Params\n",
        "durationOfAudioSample = 1 # Length of AudioSamples for Training\n",
        "showDataBalance = False # Shows Data Balance in the complete and the splitted Datasets. (time intensive)\n",
        "\n",
        "batchSize=16            # Batch size for Training\n",
        "epochs=1                # Number of Epochs for Training\n",
        "\n",
        "# Checks if gpu is available\n",
        "device = \"cuda:0\" if torch.cuda.is_available() else \"cpu\"\n",
        "print(\"Device:\", device)"
      ],
      "execution_count": 0,
      "outputs": [
        {
          "output_type": "stream",
          "text": [
            "Device: cpu\n"
          ],
          "name": "stdout"
        }
      ]
    },
    {
      "cell_type": "markdown",
      "metadata": {
        "collapsed": false,
        "id": "5SVg7nCkffK0",
        "colab_type": "text"
      },
      "source": [
        "## Utils\n",
        "\n",
        "Im Folgenden werden zunächst einige Hilfsfunktionen erstellt.\n",
        "\n",
        "### Audio Manipulation"
      ]
    },
    {
      "cell_type": "code",
      "metadata": {
        "pycharm": {
          "name": "#%%\n"
        },
        "id": "1-LatmeYmcs1",
        "colab_type": "code",
        "colab": {}
      },
      "source": [
        "# randomly change amplitude of audio in given range\n",
        "def manipulateAmplitude(samples, amplitude_range):\n",
        "    samples = samples * random.uniform(*amplitude_range)\n",
        "    return samples\n",
        "\n",
        "# randomly change speed (pitch) of audio within maximum scale\n",
        "def manipulateSpeed(samples, max_scale):\n",
        "    scale = random.uniform(-max_scale, max_scale)\n",
        "    speed_factor = 1.0 / (1 + scale)\n",
        "    samples = np.interp(np.arange(0, len(samples), speed_factor), np.arange(0,len(samples)), samples).astype(np.float32)\n",
        "    return samples\n",
        "\n",
        "# randomly add background noise\n",
        "def backgroundNoise(samples, standard_deviation):\n",
        "    noise = np.random.normal(0, standard_deviation, samples.shape)\n",
        "    print(noise)\n",
        "    samples += noise\n",
        "    return samples\n",
        "\n",
        "#randomly shift audio in time\n",
        "def manipulateShift(samples, sample_rate, max_shift_seconds):\n",
        "    max_shift = sample_rate * max_shift_seconds\n",
        "    shift = random.randint(-max_shift, max_shift)\n",
        "    minimum = -min(0, shift)\n",
        "    maximum = max(0, shift)\n",
        "    samples_temp = np.pad(samples, (minimum, maximum), \"constant\")\n",
        "    samples = samples[:len(samples) - minimum] if minimum else samples[maximum:]\n",
        "    return samples\n",
        "\n",
        "# randomly change length of audio by stretching\n",
        "def manipulateLength(samples, max_scale):\n",
        "    scale = random.uniform(-max_scale, max_scale)\n",
        "    samples = librosa.effects.time_stretch(samples, 1+scale)\n",
        "    return samples"
      ],
      "execution_count": 0,
      "outputs": []
    },
    {
      "cell_type": "markdown",
      "metadata": {
        "collapsed": false,
        "id": "uIAnzS94mcs9",
        "colab_type": "text"
      },
      "source": [
        "### Wave2Image"
      ]
    },
    {
      "cell_type": "code",
      "metadata": {
        "id": "CT5ivCfxf_XU",
        "colab_type": "code",
        "colab": {}
      },
      "source": [
        "def wave2image(file):\n",
        "\n",
        "    samples, sample_rate = librosa.core.load(file,sr=16000)\n",
        "\n",
        "    # Audio Manipulation\n",
        "    samples = manipulateAmplitude(samples, (0.7, 1.1))\n",
        "    samples = manipulateSpeed(samples, 0.2)\n",
        "    samples = backgroundNoise(samples, 0.01)\n",
        "    samples = manipulateShift(samples, sample_rate, 0.2)\n",
        "    samples = manipulateLength(samples, 0.2)\n",
        "\n",
        "    # correct length of audiosample to fix length\n",
        "    fixed_sample_length = int(durationOfAudioSample * sample_rate)\n",
        "    if fixed_sample_length < len(samples):      #truncate\n",
        "        samples = samples[:fixed_sample_length]\n",
        "    elif fixed_sample_length > len(samples):    # add silence\n",
        "        samples = np.pad(samples, (0, fixed_sample_length - len(samples)), \"constant\")\n",
        "\n",
        "    # Create MelSpectrum\n",
        "    s = librosa.feature.melspectrogram(samples, sr=sample_rate, n_mels=32)\n",
        "    mel = librosa.power_to_db(s, ref=np.max)\n",
        "    return mel"
      ],
      "execution_count": 0,
      "outputs": []
    },
    {
      "cell_type": "markdown",
      "metadata": {
        "id": "gy2SYK_8f9_v",
        "colab_type": "text"
      },
      "source": [
        "### Show Image\n",
        "\n",
        "Die Funktion `show(image,title = None)` ermöglicht das Plotten von Bildern.\n",
        "Das Argument `title` ist optional und kann z.B. für das entsprechende Label verwendet werden."
      ]
    },
    {
      "cell_type": "code",
      "metadata": {
        "pycharm": {
          "name": "#%%\n"
        },
        "id": "Nkp1N2wkffK2",
        "colab_type": "code",
        "colab": {}
      },
      "source": [
        "def show(_image,_title = None):\n",
        "    plt.figure(figsize=(15, 5))\n",
        "    plt.imshow(_image[0])\n",
        "    if _title is not None:\n",
        "        plt.title(_title)\n",
        "    plt.show()"
      ],
      "execution_count": 0,
      "outputs": []
    },
    {
      "cell_type": "markdown",
      "metadata": {
        "collapsed": false,
        "id": "-ipBA0C8ffK8",
        "colab_type": "text"
      },
      "source": [
        "### Count Labels in Dataset\n",
        "\n",
        "Die Funktion `dataBalance` zählt wie oft ein Label im Datensatz vorkommt und gibt die Werte\n",
        "als Liste zurück. Der Index in der Liste entspricht dabei dem Label (erster Eintrag\n",
        "entspricht der absoluten Häufigkeit von Label 0 im Datensatz, der darauf folgende Wert Label 1 usw.)."
      ]
    },
    {
      "cell_type": "code",
      "metadata": {
        "pycharm": {
          "name": "#%%\n"
        },
        "id": "F3oIflAbffK9",
        "colab_type": "code",
        "colab": {}
      },
      "source": [
        "def dataBalance(_dataset):\n",
        "\n",
        "    _y = [y for _,y,_ in _dataset]\n",
        "    _counter = collections.Counter(_y)\n",
        "\n",
        "    _sizes = []\n",
        "\n",
        "    for i in range(0, len(_counter)):\n",
        "        _sizes.append(_counter[i])\n",
        "\n",
        "    return _sizes"
      ],
      "execution_count": 0,
      "outputs": []
    },
    {
      "cell_type": "markdown",
      "metadata": {
        "collapsed": false,
        "pycharm": {
          "name": "#%% md\n"
        },
        "id": "K6L2iuqwffLD",
        "colab_type": "text"
      },
      "source": [
        "## Dataset\n",
        "\n",
        "Die Klasse `CommandDataset` representiert den kompletten Datensatz.\n",
        "\n",
        "In der `__init__(self)` Funktion werden alle Pfade zu Daten\n",
        "vereint und die entsprechenden Labels erstellt.\n",
        "\n",
        "Die Funktion `__len__(self)` gibt die Anzahl der Einträge im Datensatz an.\n",
        "\n",
        "Der Zugriff auf Datensatzeinträge erfolgt ähnlich wie bei Listen\n",
        "oder Arrays (`dataset[idx]` gibt den `idx`-ten Eintrag zurück).\n",
        "Dabei wird die Klasse `__getItem__(self,idx)` aufgerufen, in welcher der\n",
        "`idx`-te Eintrag erstellt wird. Die Rückgabe besteht aus dem Bild des MelSpektrograms, dem Label,\n",
        "sowie dem Pfad zur Wave-Datei."
      ]
    },
    {
      "cell_type": "code",
      "metadata": {
        "pycharm": {
          "name": "#%%\n"
        },
        "id": "r3Hg13JzffLE",
        "colab_type": "code",
        "colab": {},
        "outputId": "cd293484-5307-46a7-a94e-134d09d7fc04"
      },
      "source": [
        "class CommandDataset(torch.utils.data.Dataset):\n",
        "\n",
        "    def __init__(self):\n",
        "        paths = [\"Dataset/data-speech_commands_v0.02/zero/\",\n",
        "                 \"Dataset/data-speech_commands_v0.02/one/\",\n",
        "                 \"Dataset/data-speech_commands_v0.02/two/\",\n",
        "                 \"Dataset/data-speech_commands_v0.02/three/\",\n",
        "                 \"Dataset/data-speech_commands_v0.02/four/\",\n",
        "                 \"Dataset/data-speech_commands_v0.02/five/\",\n",
        "                 \"Dataset/data-speech_commands_v0.02/six/\",\n",
        "                 \"Dataset/data-speech_commands_v0.02/seven/\",\n",
        "                 \"Dataset/data-speech_commands_v0.02/eight/\",\n",
        "                 \"Dataset/data-speech_commands_v0.02/nine/\",\n",
        "\n",
        "                 \"Dataset/data-speech_commands_v0.02/forward/\",\n",
        "                 \"Dataset/data-speech_commands_v0.02/backward/\",\n",
        "                 \"Dataset/data-speech_commands_v0.02/left/\",\n",
        "                 \"Dataset/data-speech_commands_v0.02/right/\",\n",
        "                 \"Dataset/data-speech_commands_v0.02/up/\",\n",
        "                 \"Dataset/data-speech_commands_v0.02/down/\",\n",
        "\n",
        "                 \"Dataset/customUnicornn/create/\",\n",
        "                 \"Dataset/customUnicornn/delete/\",\n",
        "                 \"Dataset/customUnicornn/select/\",\n",
        "                 \"Dataset/customUnicornn/move/\",\n",
        "                 \"Dataset/customUnicornn/color/\",\n",
        "\n",
        "                 \"Dataset/customUnicornn/red/\",\n",
        "                 \"Dataset/customUnicornn/green/\",\n",
        "                 \"Dataset/customUnicornn/blue/\",\n",
        "                 \"Dataset/customUnicornn/white/\",\n",
        "\n",
        "                 \"Dataset/customUnicornn/cube/\",\n",
        "                 \"Dataset/customUnicornn/sphere/\",\n",
        "                 \"Dataset/customUnicornn/plane/\",\n",
        "\n",
        "                 ]\n",
        "        self.classes = len(paths)\n",
        "\n",
        "        self.datasetItems = []\n",
        "        self.exampleIDs = []\n",
        "        _id = -1\n",
        "        for _label in range(0,len(paths)):\n",
        "            for filename in os.listdir(paths[_label]):\n",
        "                if filename.endswith(\".wav\"):\n",
        "                    self.datasetItems.append((os.path.join(paths[_label],filename),_label))\n",
        "                    _id += 1\n",
        "            self.exampleIDs.append(_id)\n",
        "\n",
        "    def __len__(self):\n",
        "        return len(self.datasetItems)\n",
        "\n",
        "    def __getitem__(self, idx):\n",
        "        _image = wave2image(self.datasetItems[idx][0])\n",
        "\n",
        "        #scale to Range[0;1]\n",
        "        _min = np.min(_image)\n",
        "        _image -= _min\n",
        "        _max = np.max(_image)\n",
        "        _image /=_max\n",
        "\n",
        "        return torch.Tensor(_image).unsqueeze(0), self.datasetItems[idx][1], self.datasetItems[idx][0]\n",
        "\n",
        "commandDataset = CommandDataset()\n",
        "print(\"Einträge im Datensatz:\", len(commandDataset))\n",
        "\n",
        "random_idx = random.randint(0, len(commandDataset)-1)\n",
        "image, label, path = commandDataset[random_idx]\n",
        "print(\"Random Element:\", path)\n",
        "show(image,\"Label: \" + str(label))"
      ],
      "execution_count": 0,
      "outputs": [
        {
          "output_type": "stream",
          "text": [
            "Einträge im Datensatz: 59113\n",
            "Random Element: Dataset/data-speech_commands_v0.02/eight/4fd1443e_nohash_1.wav\n"
          ],
          "name": "stdout"
        },
        {
          "output_type": "display_data",
          "data": {
            "text/plain": [
              "<Figure size 1080x360 with 1 Axes>"
            ],
            "image/png": "[encoded data removed]"
          },
          "metadata": {
            "tags": [],
            "needs_background": "light"
          }
        }
      ]
    },
    {
      "cell_type": "markdown",
      "metadata": {
        "collapsed": false,
        "id": "rtCEqSI2ffLK",
        "colab_type": "text",
        "pycharm": {
          "name": "#%%\n"
        }
      },
      "source": [
        "print(\"Class Examples:\")\n",
        "grid = [commandDataset[i][0] for i in commandDataset.exampleIDs]\n",
        "\n",
        "grid = torchvision.utils.make_grid(grid, nrow=10, padding=2)\n",
        "show(grid.numpy(), \"(in reading direction)\")"
      ]
    },
    {
      "cell_type": "code",
      "metadata": {
        "pycharm": {
          "name": "#%% md\n"
        },
        "id": "9nvigtpkffLM",
        "colab_type": "code",
        "colab": {}
      },
      "source": [
        "### Splitting\n",
        "\n",
        "Um den Trainingsprozess später evaluieren zu können wird der Datasatz in einen\n",
        "Trainings- und einen Evaluierungsdatensatz aufgeteilt. Das Verhältnis zwischen den\n",
        "beiden Datensätzen ist 80:20."
      ],
      "execution_count": 0,
      "outputs": []
    },
    {
      "cell_type": "code",
      "metadata": {
        "pycharm": {
          "name": "#%%\n"
        },
        "id": "Ewd2IhihffLU",
        "colab_type": "code",
        "outputId": "f8afad8f-3876-4641-d895-7c255707d23b",
        "colab": {}
      },
      "source": [
        "len_ds = len(commandDataset)\n",
        "len_train = int(0.8*len_ds)\n",
        "len_val = len_ds - len_train\n",
        "\n",
        "train_ds, val_ds = torch.utils.data.random_split(commandDataset,[len_train,len_val])\n",
        "\n",
        "print(\"Trainingsdaten:\", len(train_ds))\n",
        "print(\"Evaluierungsdaten:\", len(val_ds))"
      ],
      "execution_count": 0,
      "outputs": [
        {
          "output_type": "stream",
          "text": [
            "Trainingsdaten: 47290\n",
            "Evaluierungsdaten: 11823\n"
          ],
          "name": "stdout"
        }
      ]
    },
    {
      "cell_type": "markdown",
      "metadata": {
        "collapsed": false,
        "pycharm": {
          "name": "#%% md\n"
        },
        "id": "wxc3hs48ffLa",
        "colab_type": "text"
      },
      "source": [
        "### Balance in Datasets\n",
        "\n",
        "Im Folgenden wird die Verteilung der Einträge nach Label in den verschiedenen Datensätzen\n",
        "visuell verglichen. Da der Prozess relativ rechenaufwendig ist, kann dieser Abschnitt\n",
        "übersprungen werden indem die Variable `showDataBalance` auf `False` gesetzt wird."
      ]
    },
    {
      "cell_type": "code",
      "metadata": {
        "pycharm": {
          "name": "#%%\n"
        },
        "id": "E4Upmlr0ffLb",
        "colab_type": "code",
        "outputId": "6f06defb-eab0-421c-e98d-bc9ced69f1a0",
        "colab": {}
      },
      "source": [
        "if showDataBalance == True:\n",
        "\n",
        "    complete_balance = dataBalance(commandDataset)\n",
        "    train_balance = dataBalance(train_ds)\n",
        "    val_balance = dataBalance(val_ds)\n",
        "\n",
        "    pie_labels = np.arange(commandDataset.classes)\n",
        "\n",
        "    plt.figure(figsize=(15, 5))\n",
        "    plt.subplot(131)\n",
        "    plt.pie(complete_balance, labels=pie_labels, counterclock=False, autopct='%1.1f%%',startangle=90,pctdistance=0.8)\n",
        "    plt.title(\"Complete Dataset\")\n",
        "    plt.subplot(132)\n",
        "    plt.pie(train_balance, labels=pie_labels, counterclock=False, autopct='%1.1f%%',startangle=90,pctdistance=0.8)\n",
        "    plt.title(\"Train Dataset\")\n",
        "    plt.subplot(133)\n",
        "    plt.pie(train_balance, labels=pie_labels, counterclock=False, autopct='%1.1f%%',startangle=90,pctdistance=0.8)\n",
        "    plt.title(\"Validation Dataset\")\n",
        "    plt.show()\n",
        "else:\n",
        "    print(\"Inorder to plot data balance set showDateBalance=True.\")"
      ],
      "execution_count": 0,
      "outputs": [
        {
          "output_type": "stream",
          "text": [
            "Inorder to plot data balance set showDateBalance=True.\n"
          ],
          "name": "stdout"
        }
      ]
    },
    {
      "cell_type": "markdown",
      "metadata": {
        "collapsed": false,
        "pycharm": {
          "name": "#%% md\n"
        },
        "id": "0RHHldniffLg",
        "colab_type": "text"
      },
      "source": [
        "### DataLoader\n",
        "\n",
        "`DataLoader` bilden aus den Einträgen in einem Datensatz Batches. Durch `shuffle=True` werden\n",
        "die Batches aus zufälligen Datensatzeinträgen zusammengestellt. Die Größe der Batches wird durch die Variable\n",
        "`batchSize` angegeben."
      ]
    },
    {
      "cell_type": "code",
      "metadata": {
        "pycharm": {
          "name": "#%%\n"
        },
        "id": "qx66_39PffLh",
        "colab_type": "code",
        "outputId": "51f2845f-5e1c-425b-86f7-1a6b39572825",
        "colab": {}
      },
      "source": [
        "train_dl = torch.utils.data.DataLoader(train_ds, batch_size=batchSize, shuffle=True)\n",
        "val_dl = torch.utils.data.DataLoader(val_ds, batch_size=batchSize, shuffle=True)\n",
        "\n",
        "print(\"Batches im Trainingsdatensatz:\",len(train_dl))\n",
        "print(\"Batches im Evaluierungsdatensatz:\",len(val_dl))"
      ],
      "execution_count": 0,
      "outputs": [
        {
          "output_type": "stream",
          "text": [
            "Batches im Trainingsdatensatz: 2956\n",
            "Batches im Evaluierungsdatensatz: 739\n"
          ],
          "name": "stdout"
        }
      ]
    },
    {
      "cell_type": "markdown",
      "metadata": {
        "collapsed": false,
        "pycharm": {
          "name": "#%% md\n"
        },
        "id": "_ThCLs9VffLm",
        "colab_type": "text"
      },
      "source": [
        "## Model"
      ]
    },
    {
      "cell_type": "code",
      "metadata": {
        "pycharm": {
          "name": "#%%\n"
        },
        "id": "VsZNdf_TffLn",
        "colab_type": "code",
        "colab": {}
      },
      "source": [
        "class CNN(torch.nn.Module):\n",
        "\n",
        "    def __init__(self):\n",
        "        super(CNN, self).__init__()\n",
        "\n",
        "        self.flatten = torch.nn.Flatten()\n",
        "        self.lin1 = torch.nn.Linear(32*32, 28)\n",
        "\n",
        "    def forward(self, x):\n",
        "\n",
        "        x = self.flatten(x)\n",
        "        x = self.lin1(x)\n",
        "        return x\n",
        "        ##return torch.rand(b,commandDataset.classes)\n",
        "\n",
        "\n",
        "model = CNN().to(device)"
      ],
      "execution_count": 0,
      "outputs": []
    },
    {
      "cell_type": "markdown",
      "metadata": {
        "collapsed": false,
        "pycharm": {
          "name": "#%% md\n"
        },
        "id": "73UyRSVEffLt",
        "colab_type": "text"
      },
      "source": [
        "## Training\n",
        "\n",
        "### Loss-Funktion\n",
        "\n",
        "Für Multi-Class-Image-Classification wird oft das CrossEntropyLoss verwendet. Pro Batch wird ein\n",
        "Durchschnittswert berechnet."
      ]
    },
    {
      "cell_type": "code",
      "metadata": {
        "pycharm": {
          "name": "#%%\n"
        },
        "id": "oDrXfBw4ffLv",
        "colab_type": "code",
        "colab": {}
      },
      "source": [
        "loss_func = nn.CrossEntropyLoss(reduction=\"mean\")\n",
        "loss_hist = []"
      ],
      "execution_count": 0,
      "outputs": []
    },
    {
      "cell_type": "markdown",
      "metadata": {
        "collapsed": false,
        "id": "y8oOfQ3OffL3",
        "colab_type": "text"
      },
      "source": [
        "### Metrik\n",
        "\n",
        "Als Metrik wird pro Batch der prozentuale Anteil der Fälle, in denen die Klassifizierung erfolgreich war,\n",
        "angegeben."
      ]
    },
    {
      "cell_type": "code",
      "metadata": {
        "pycharm": {
          "name": "#%%\n"
        },
        "id": "LxsuKh_LffL4",
        "colab_type": "code",
        "colab": {}
      },
      "source": [
        "acc_func = lambda y_real, y_pred:(y_real == y_pred.argmax(1)).sum().item()/batchSize\n",
        "acc_hist = []"
      ],
      "execution_count": 0,
      "outputs": []
    },
    {
      "cell_type": "markdown",
      "metadata": {
        "collapsed": false,
        "pycharm": {
          "name": "#%% md\n"
        },
        "id": "K2guIKVDffL-",
        "colab_type": "text"
      },
      "source": [
        "### Train-Loop\n",
        "\n",
        "(Durchläuft zur Demonstration aktuell nur 3 Batches.)"
      ]
    },
    {
      "cell_type": "code",
      "metadata": {
        "pycharm": {
          "name": "#%%\n"
        },
        "id": "QUOJBqWCffMA",
        "colab_type": "code",
        "colab": {},
        "outputId": "da440bca-a13f-43fb-a6ef-4359ce7ca83f"
      },
      "source": [
        "sanity_break = 3;\n",
        "sanity_counter = 0\n",
        "for e in range(0,epochs):\n",
        "\n",
        "    for x, y_real, _ in tqdm(train_dl):\n",
        "\n",
        "        print(\"Model-Input\", x.shape)\n",
        "        y_pred = model(x.to(device))\n",
        "        print(\"Model-Output\", y_pred.shape)\n",
        "\n",
        "        print(\"Real-Label:\", y_real)\n",
        "        print(\"Pred-Label:\", y_pred.argmax(1))\n",
        "\n",
        "        accuracy = acc_func(y_real,y_pred)\n",
        "        acc_hist.append(accuracy)\n",
        "        print(\"Accuracy: {0:d}/{1:d} ({2:.4f}%)\".format(int(accuracy*batchSize),batchSize,accuracy))\n",
        "\n",
        "        loss = loss_func(y_pred,y_real)\n",
        "        loss_hist.append(loss.item())\n",
        "        print(\"Loss:\",loss.item(),\"\\n\")\n",
        "\n",
        "        sanity_counter += 1\n",
        "        if sanity_break == sanity_counter:\n",
        "            break"
      ],
      "execution_count": 0,
      "outputs": [
        {
          "output_type": "stream",
          "text": [
            "  0%|          | 2/2956 [00:00<03:41, 13.35it/s]\n"
          ],
          "name": "stderr"
        },
        {
          "output_type": "stream",
          "text": [
            "Model-Input torch.Size([16, 1, 32, 32])\n",
            "Model-Output torch.Size([16, 28])\n",
            "Real-Label: tensor([ 5,  6,  7,  0,  8, 22, 12,  9,  6,  2,  5,  3,  8, 14, 13,  9])\n",
            "Pred-Label: tensor([25, 26, 26, 25, 26, 20, 25, 20, 25, 20, 25, 26, 14, 25, 21, 20],\n",
            "       grad_fn=<NotImplemented>)\n",
            "Accuracy: 0/16 (0.0000%)\n",
            "Loss: 3.4293339252471924 \n",
            "\n",
            "Model-Input torch.Size([16, 1, 32, 32])\n",
            "Model-Output torch.Size([16, 28])\n",
            "Real-Label: tensor([ 9,  9,  7,  6, 14, 10,  7,  0,  0,  9, 12,  3,  8,  4,  6,  2])\n",
            "Pred-Label: tensor([21, 20, 26, 21, 21, 25, 20, 26, 25, 26, 11, 20, 20, 25, 26, 25],\n",
            "       grad_fn=<NotImplemented>)\n",
            "Accuracy: 0/16 (0.0000%)\n",
            "Loss: 3.4125876426696777 \n",
            "\n",
            "Model-Input torch.Size([16, 1, 32, 32])\n",
            "Model-Output torch.Size([16, 28])\n",
            "Real-Label: tensor([ 7,  0, 26, 12, 13,  5,  5, 12,  5,  0,  4, 10, 15,  3, 14,  2])\n",
            "Pred-Label: tensor([26, 26, 26, 18, 25, 21, 25, 25, 25, 25, 26, 16, 21, 20, 25, 20],\n",
            "       grad_fn=<NotImplemented>)\n",
            "Accuracy: 1/16 (0.0625%)\n",
            "Loss: 3.3749778270721436 \n",
            "\n"
          ],
          "name": "stdout"
        }
      ]
    },
    {
      "cell_type": "markdown",
      "metadata": {
        "collapsed": false,
        "pycharm": {
          "name": "#%% md\n"
        },
        "id": "rZQ5rIa-ffMH",
        "colab_type": "text"
      },
      "source": [
        "### Loss- und Accuracy-Plot\n",
        "\n",
        "(Aktuell: Loss und Accuracy der 3 durchlaufenen Batches. Später: Durchschnitt pro Epoche.)"
      ]
    },
    {
      "cell_type": "code",
      "metadata": {
        "pycharm": {
          "name": "#%%\n"
        },
        "id": "BS7NbnxlffMI",
        "colab_type": "code",
        "outputId": "385d0416-d8b8-4143-dc48-4573da960755",
        "colab": {}
      },
      "source": [
        "plt.figure(figsize=(16, 5))\n",
        "plt.subplot(121)  #sublot(Anzahl Zeilen Anzahl Spalten Bild Nummer)\n",
        "plt.plot(loss_hist)\n",
        "plt.title('Loss:')\n",
        "\n",
        "plt.subplot(122)  #sublot(Anzahl Zeilen Anzahl Spalten Bild Nummer)\n",
        "plt.plot(acc_hist)\n",
        "plt.title('Accuracy:')\n",
        "plt.show()"
      ],
      "execution_count": 0,
      "outputs": [
        {
          "output_type": "display_data",
          "data": {
            "text/plain": [
              "<Figure size 1152x360 with 2 Axes>"
            ],
            "image/png": "[encoded data removed]"
          },
          "metadata": {
            "tags": [],
            "needs_background": "light"
          }
        }
      ]
    },
    {
      "cell_type": "markdown",
      "metadata": {
        "collapsed": false,
        "pycharm": {
          "name": "#%% md\n"
        },
        "id": "XKThakS7ffMO",
        "colab_type": "text"
      },
      "source": [
        "## ONNX-Export\n",
        "\n",
        "Um das trainierte Netz in Unity nutzen zu können wird vsl. das Barracuda Package\n",
        "von Unity verwendet. Dieses kann Netze, die im ONNX-Format gespeichert sind, ausführen."
      ]
    },
    {
      "cell_type": "code",
      "metadata": {
        "pycharm": {
          "name": "#%%\n"
        },
        "id": "-mKrIqoCffMP",
        "colab_type": "code",
        "outputId": "072acb80-6237-42ae-bdd7-6cf96e16950c",
        "colab": {}
      },
      "source": [
        "dummy_input = torch.randn(16, 1, 32, 32, device=device)\n",
        "torch.onnx.export(model, dummy_input, \"Unicornn.onnx\", verbose=True)"
      ],
      "execution_count": 0,
      "outputs": [
        {
          "output_type": "stream",
          "text": [
            "graph(%0 : Float(16, 1, 32, 32),\n",
            "      %lin1.weight : Float(28, 1024),\n",
            "      %lin1.bias : Float(28)):\n",
            "  %3 : Float(16, 1024) = onnx::Flatten[axis=1](%0) # /Users/alexander/Documents/Python-Projects/Unicornn/venv/lib/python3.7/site-packages/torch/nn/modules/flatten.py:29:0\n",
            "  %4 : Float(16, 28) = onnx::Gemm[alpha=1., beta=1., transB=1](%3, %lin1.weight, %lin1.bias) # /Users/alexander/Documents/Python-Projects/Unicornn/venv/lib/python3.7/site-packages/torch/nn/functional.py:1610:0\n",
            "  return (%4)\n",
            "\n"
          ],
          "name": "stdout"
        }
      ]
    },
    {
      "cell_type": "markdown",
      "metadata": {
        "collapsed": false,
        "pycharm": {
          "name": "#%% md\n"
        },
        "id": "QKgxMOZEffMY",
        "colab_type": "text"
      },
      "source": [
        "## Deployment Simulation\n",
        "\n",
        "Der folgende Ablauf findet später in Unity mit Barracuda statt."
      ]
    },
    {
      "cell_type": "code",
      "metadata": {
        "pycharm": {
          "name": "#%%\n"
        },
        "id": "jn6PaHLhffMZ",
        "colab_type": "code",
        "outputId": "f53a4938-250c-42ac-e1e0-14c3fa1cfc9e",
        "colab": {}
      },
      "source": [
        "classified = []\n",
        "for i in range(300):\n",
        "    pred = model(torch.randn(1, 1, 32, 32, device=device)).argmax(1).item()\n",
        "    if pred != commandDataset.classes:\n",
        "        classified.append(pred)\n",
        "\n",
        "    if 16 in classified and 25 in classified:\n",
        "        print(\"Create Cube\")\n",
        "        classified = []\n",
        "    if 16 in classified and 26 in classified:\n",
        "        print(\"Create Sphere\")\n",
        "        classified = []\n",
        "    if 16 in classified and 27 in classified:\n",
        "        print(\"Create Plane\")\n",
        "        classified = []\n"
      ],
      "execution_count": 0,
      "outputs": [
        {
          "output_type": "stream",
          "text": [
            "Create Cube\n",
            "Create Cube\n",
            "Create Cube\n",
            "Create Sphere\n",
            "Create Sphere\n",
            "Create Sphere\n",
            "Create Cube\n",
            "Create Cube\n",
            "Create Sphere\n",
            "Create Cube\n",
            "Create Cube\n",
            "Create Plane\n",
            "Create Cube\n",
            "25\n",
            "Parameter containing:\n",
            "tensor([[ 0.0274, -0.0045,  0.0026,  ...,  0.0220,  0.0104,  0.0250],\n",
            "        [ 0.0290,  0.0228, -0.0061,  ...,  0.0036,  0.0228, -0.0055],\n",
            "        [ 0.0180, -0.0267,  0.0119,  ...,  0.0221, -0.0188, -0.0193],\n",
            "        ...,\n",
            "        [ 0.0131, -0.0084, -0.0158,  ...,  0.0244, -0.0129,  0.0135],\n",
            "        [ 0.0069, -0.0003,  0.0085,  ..., -0.0300, -0.0193,  0.0262],\n",
            "        [ 0.0173,  0.0286,  0.0068,  ..., -0.0284, -0.0273,  0.0215]],\n",
            "       requires_grad=True)\n"
          ],
          "name": "stdout"
        }
      ]
    }
  ]
}